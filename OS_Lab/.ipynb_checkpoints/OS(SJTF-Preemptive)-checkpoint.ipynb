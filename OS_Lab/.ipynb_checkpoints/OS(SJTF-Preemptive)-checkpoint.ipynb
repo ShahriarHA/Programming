{
 "cells": [
  {
   "cell_type": "code",
   "execution_count": 1,
   "id": "4d57b5ff",
   "metadata": {},
   "outputs": [
    {
     "name": "stdout",
     "output_type": "stream",
     "text": [
      "Number of Process: 5\n"
     ]
    }
   ],
   "source": [
    "n = int(input(\"Number of Process: \"))"
   ]
  },
  {
   "cell_type": "code",
   "execution_count": 2,
   "id": "b3e244c5",
   "metadata": {},
   "outputs": [],
   "source": [
    "arr = [[0 for i in range(8)] for j in range(n)]"
   ]
  },
  {
   "cell_type": "code",
   "execution_count": 3,
   "id": "64f7a82c",
   "metadata": {},
   "outputs": [
    {
     "name": "stdout",
     "output_type": "stream",
     "text": [
      "[[0, 0, 0, 0, 0, 0, 0, 0], [0, 0, 0, 0, 0, 0, 0, 0], [0, 0, 0, 0, 0, 0, 0, 0], [0, 0, 0, 0, 0, 0, 0, 0], [0, 0, 0, 0, 0, 0, 0, 0]]\n"
     ]
    }
   ],
   "source": [
    "print(arr)"
   ]
  },
  {
   "cell_type": "code",
   "execution_count": 4,
   "id": "f0271fc0",
   "metadata": {},
   "outputs": [
    {
     "name": "stdout",
     "output_type": "stream",
     "text": [
      "1 2 3\n",
      "2 5 1\n",
      "3 6 2\n",
      "4 8 5\n",
      "5 0 7\n"
     ]
    }
   ],
   "source": [
    "for i in range(n):\n",
    "    pid, at, bt = input().split()\n",
    "    arr[i][0] = int(pid)\n",
    "    arr[i][1] = int(at)\n",
    "    arr[i][2] = int(bt)\n",
    "    arr[i][3] = int(bt) # remaining burst time"
   ]
  },
  {
   "cell_type": "code",
   "execution_count": 5,
   "id": "150ce99d",
   "metadata": {},
   "outputs": [
    {
     "name": "stdout",
     "output_type": "stream",
     "text": [
      "[[1, 2, 3, 3, 0, 0, 0, 0], [2, 5, 1, 1, 0, 0, 0, 0], [3, 6, 2, 2, 0, 0, 0, 0], [4, 8, 5, 5, 0, 0, 0, 0], [5, 0, 7, 7, 0, 0, 0, 0]]\n"
     ]
    }
   ],
   "source": [
    "print(arr)"
   ]
  },
  {
   "cell_type": "code",
   "execution_count": 6,
   "id": "ab4cc8e9",
   "metadata": {},
   "outputs": [],
   "source": [
    "arr = sorted(arr, key=lambda x:x[1])"
   ]
  },
  {
   "cell_type": "code",
   "execution_count": 7,
   "id": "da45a789",
   "metadata": {},
   "outputs": [
    {
     "name": "stdout",
     "output_type": "stream",
     "text": [
      "[[5, 0, 7, 7, 0, 0, 0, 0], [1, 2, 3, 3, 0, 0, 0, 0], [2, 5, 1, 1, 0, 0, 0, 0], [3, 6, 2, 2, 0, 0, 0, 0], [4, 8, 5, 5, 0, 0, 0, 0]]\n"
     ]
    }
   ],
   "source": [
    "print(arr)"
   ]
  },
  {
   "cell_type": "code",
   "execution_count": 8,
   "id": "2d886008",
   "metadata": {},
   "outputs": [],
   "source": [
    "import sys"
   ]
  },
  {
   "cell_type": "code",
   "execution_count": 9,
   "id": "8720519f",
   "metadata": {},
   "outputs": [],
   "source": [
    "c = 0\n",
    "current_time = arr[0][1]\n",
    "while(c<n):\n",
    "    idx = -1\n",
    "    sbt = sys.maxsize\n",
    "    for i in range(n):\n",
    "        if arr[i][1] <= current_time and arr[i][3] < sbt and arr[i][3] != 0:\n",
    "            sbt = arr[i][3]\n",
    "            idx = i\n",
    "    if idx != -1:\n",
    "        if arr[idx][2] == arr[idx][3]:\n",
    "            arr[idx][4] = current_time - arr[idx][1]\n",
    "        arr[idx][3] = arr[idx][3] - 1\n",
    "    current_time = current_time + 1\n",
    "    if arr[idx][3] == 0:\n",
    "        arr[idx][5] = current_time\n",
    "        c = c+1"
   ]
  },
  {
   "cell_type": "code",
   "execution_count": 10,
   "id": "6e955b46",
   "metadata": {},
   "outputs": [
    {
     "name": "stdout",
     "output_type": "stream",
     "text": [
      "[[5, 0, 7, 0, 0, 13, 0, 0], [1, 2, 3, 0, 0, 5, 0, 0], [2, 5, 1, 0, 0, 6, 0, 0], [3, 6, 2, 0, 0, 8, 0, 0], [4, 8, 5, 0, 5, 18, 0, 0]]\n"
     ]
    }
   ],
   "source": [
    "print(arr)"
   ]
  },
  {
   "cell_type": "code",
   "execution_count": 11,
   "id": "bf6e88f0",
   "metadata": {},
   "outputs": [],
   "source": [
    "arr = sorted(arr, key=lambda x:x[0])"
   ]
  },
  {
   "cell_type": "code",
   "execution_count": 12,
   "id": "d07ba2cf",
   "metadata": {},
   "outputs": [
    {
     "name": "stdout",
     "output_type": "stream",
     "text": [
      "[[1, 2, 3, 0, 0, 5, 0, 0], [2, 5, 1, 0, 0, 6, 0, 0], [3, 6, 2, 0, 0, 8, 0, 0], [4, 8, 5, 0, 5, 18, 0, 0], [5, 0, 7, 0, 0, 13, 0, 0]]\n"
     ]
    }
   ],
   "source": [
    "print(arr)"
   ]
  },
  {
   "cell_type": "code",
   "execution_count": 13,
   "id": "368e3453",
   "metadata": {},
   "outputs": [],
   "source": [
    "for i in range(n):\n",
    "    arr[i][7] = arr[i][5] - arr[i][1]\n",
    "    arr[i][6] = arr[i][7] - arr[i][2]"
   ]
  },
  {
   "cell_type": "code",
   "execution_count": 14,
   "id": "1473e2ed",
   "metadata": {},
   "outputs": [
    {
     "name": "stdout",
     "output_type": "stream",
     "text": [
      "[[1, 2, 3, 0, 0, 5, 0, 3], [2, 5, 1, 0, 0, 6, 0, 1], [3, 6, 2, 0, 0, 8, 0, 2], [4, 8, 5, 0, 5, 18, 5, 10], [5, 0, 7, 0, 0, 13, 6, 13]]\n"
     ]
    }
   ],
   "source": [
    "print(arr)"
   ]
  },
  {
   "cell_type": "code",
   "execution_count": null,
   "id": "00310243",
   "metadata": {},
   "outputs": [],
   "source": []
  }
 ],
 "metadata": {
  "kernelspec": {
   "display_name": "Python 3 (ipykernel)",
   "language": "python",
   "name": "python3"
  },
  "language_info": {
   "codemirror_mode": {
    "name": "ipython",
    "version": 3
   },
   "file_extension": ".py",
   "mimetype": "text/x-python",
   "name": "python",
   "nbconvert_exporter": "python",
   "pygments_lexer": "ipython3",
   "version": "3.9.13"
  }
 },
 "nbformat": 4,
 "nbformat_minor": 5
}
