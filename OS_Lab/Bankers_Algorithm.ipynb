{
 "cells": [
  {
   "cell_type": "code",
   "execution_count": 16,
   "id": "6b0e16c9",
   "metadata": {},
   "outputs": [
    {
     "name": "stdout",
     "output_type": "stream",
     "text": [
      "Number of resources: 3\n"
     ]
    }
   ],
   "source": [
    "resource = int(input(\"Number of resources: \"))"
   ]
  },
  {
   "cell_type": "code",
   "execution_count": 17,
   "id": "0b7fda60",
   "metadata": {},
   "outputs": [
    {
     "name": "stdout",
     "output_type": "stream",
     "text": [
      "10 5 7\n"
     ]
    },
    {
     "data": {
      "text/plain": [
       "[10, 5, 7]"
      ]
     },
     "execution_count": 17,
     "metadata": {},
     "output_type": "execute_result"
    }
   ],
   "source": [
    "x = input().split()\n",
    "Resource_Instanse = [int(i) for i in x]\n",
    "Resource_Instanse\n"
   ]
  },
  {
   "cell_type": "code",
   "execution_count": 18,
   "id": "4a88d673",
   "metadata": {},
   "outputs": [
    {
     "name": "stdout",
     "output_type": "stream",
     "text": [
      "number of process: 5\n"
     ]
    }
   ],
   "source": [
    "process = int(input(\"number of process: \"))"
   ]
  },
  {
   "cell_type": "code",
   "execution_count": 19,
   "id": "2fb5570e",
   "metadata": {},
   "outputs": [
    {
     "data": {
      "text/plain": [
       "[]"
      ]
     },
     "execution_count": 19,
     "metadata": {},
     "output_type": "execute_result"
    }
   ],
   "source": [
    "max_need = []\n",
    "max_need"
   ]
  },
  {
   "cell_type": "code",
   "execution_count": 20,
   "id": "25da9f90",
   "metadata": {},
   "outputs": [
    {
     "data": {
      "text/plain": [
       "[]"
      ]
     },
     "execution_count": 20,
     "metadata": {},
     "output_type": "execute_result"
    }
   ],
   "source": [
    "allocated = []\n",
    "allocated"
   ]
  },
  {
   "cell_type": "code",
   "execution_count": 21,
   "id": "7426b30d",
   "metadata": {},
   "outputs": [
    {
     "data": {
      "text/plain": [
       "[[0, 0, 0], [0, 0, 0], [0, 0, 0], [0, 0, 0], [0, 0, 0]]"
      ]
     },
     "execution_count": 21,
     "metadata": {},
     "output_type": "execute_result"
    }
   ],
   "source": [
    "current_available = [[0 for i in range(resource)]for j in range(process)]\n",
    "current_available"
   ]
  },
  {
   "cell_type": "code",
   "execution_count": 22,
   "id": "dba095a8",
   "metadata": {},
   "outputs": [
    {
     "name": "stdout",
     "output_type": "stream",
     "text": [
      "7 5 3\n",
      "3 2 2\n",
      "9 0 2\n",
      "2 2 2\n",
      "4 3 3\n"
     ]
    },
    {
     "data": {
      "text/plain": [
       "[[7, 5, 3], [3, 2, 2], [9, 0, 2], [2, 2, 2], [4, 3, 3]]"
      ]
     },
     "execution_count": 22,
     "metadata": {},
     "output_type": "execute_result"
    }
   ],
   "source": [
    "for k in range(process):\n",
    "    x = input().split()\n",
    "    y = [int(i) for i in x]\n",
    "    max_need.append(y)\n",
    "max_need"
   ]
  },
  {
   "cell_type": "code",
   "execution_count": 23,
   "id": "b05cb013",
   "metadata": {},
   "outputs": [
    {
     "name": "stdout",
     "output_type": "stream",
     "text": [
      "0 1 0\n",
      "2 0 0\n",
      "3 0 2\n",
      "2 1 1\n",
      "0 0 2\n"
     ]
    },
    {
     "data": {
      "text/plain": [
       "[[0, 1, 0], [2, 0, 0], [3, 0, 2], [2, 1, 1], [0, 0, 2]]"
      ]
     },
     "execution_count": 23,
     "metadata": {},
     "output_type": "execute_result"
    }
   ],
   "source": [
    "for k in range(process):\n",
    "    x = input().split()\n",
    "    y = [int(i) for i in x]\n",
    "    allocated.append(y)\n",
    "allocated"
   ]
  },
  {
   "cell_type": "code",
   "execution_count": 24,
   "id": "157f43d1",
   "metadata": {},
   "outputs": [
    {
     "data": {
      "text/plain": [
       "[0, 0, 0]"
      ]
     },
     "execution_count": 24,
     "metadata": {},
     "output_type": "execute_result"
    }
   ],
   "source": [
    "total_allocated = [0 for i in range(resource)]\n",
    "total_allocated"
   ]
  },
  {
   "cell_type": "code",
   "execution_count": 25,
   "id": "de75abdd",
   "metadata": {},
   "outputs": [
    {
     "data": {
      "text/plain": [
       "[[7, 4, 3], [1, 2, 2], [6, 0, 0], [0, 1, 1], [4, 3, 1]]"
      ]
     },
     "execution_count": 25,
     "metadata": {},
     "output_type": "execute_result"
    }
   ],
   "source": [
    "for i in range(process):\n",
    "    for j in range(resource):\n",
    "        current_available[i][j] = max_need[i][j] - allocated[i][j]\n",
    "        total_allocated[j] = total_allocated[j] + allocated[i][j]\n",
    "current_available"
   ]
  },
  {
   "cell_type": "code",
   "execution_count": 26,
   "id": "5508771d",
   "metadata": {},
   "outputs": [
    {
     "data": {
      "text/plain": [
       "[7, 2, 5]"
      ]
     },
     "execution_count": 26,
     "metadata": {},
     "output_type": "execute_result"
    }
   ],
   "source": [
    "total_allocated"
   ]
  },
  {
   "cell_type": "code",
   "execution_count": 27,
   "id": "4f02a7dc",
   "metadata": {},
   "outputs": [
    {
     "data": {
      "text/plain": [
       "[3, 3, 2]"
      ]
     },
     "execution_count": 27,
     "metadata": {},
     "output_type": "execute_result"
    }
   ],
   "source": [
    "available = []\n",
    "for i in range(resource):\n",
    "    available.append(Resource_Instanse[i] - total_allocated[i])\n",
    "available"
   ]
  },
  {
   "cell_type": "code",
   "execution_count": 28,
   "id": "b582f4c4",
   "metadata": {},
   "outputs": [
    {
     "name": "stdout",
     "output_type": "stream",
     "text": [
      "there is a safe sequence :  [1, 3, 4, 0, 2]\n",
      "P 1-->P 3-->P 4-->P 0-->P 2"
     ]
    }
   ],
   "source": [
    "# search safe state\n",
    "safe_sequence = []\n",
    "c = 0\n",
    "while(c < process):\n",
    "    flag2 = 0\n",
    "    for i in range(process):\n",
    "        flag1 = 0\n",
    "        if i not in safe_sequence:\n",
    "            for j in range(resource):\n",
    "                if available[j] < current_available[i][j]:\n",
    "                    flag1 = 1\n",
    "                    break\n",
    "        else:\n",
    "            flag1 = 1\n",
    "        if flag1 == 0:\n",
    "            c+=1\n",
    "            safe_sequence.append(i)\n",
    "            flag2 = flag2 + 1\n",
    "            for k in range(resource):\n",
    "                available[k] = available[k] + allocated[i][k]\n",
    "                allocated[i][k] = 0\n",
    "    if flag2 == 0:\n",
    "        break\n",
    "if c == process:\n",
    "    print(\"there is a safe sequence : \",safe_sequence)\n",
    "    for i in range(len(safe_sequence)):\n",
    "        print(\"P\",safe_sequence[i],end=\"\")\n",
    "        if i < len(safe_sequence)-1:\n",
    "            print(\"-->\",end=\"\")\n",
    "else:\n",
    "    print(\"Deadlock\")\n",
    "    \n",
    "                \n",
    "        \n"
   ]
  },
  {
   "cell_type": "code",
   "execution_count": null,
   "id": "94b05b72",
   "metadata": {},
   "outputs": [],
   "source": []
  }
 ],
 "metadata": {
  "kernelspec": {
   "display_name": "Python 3 (ipykernel)",
   "language": "python",
   "name": "python3"
  },
  "language_info": {
   "codemirror_mode": {
    "name": "ipython",
    "version": 3
   },
   "file_extension": ".py",
   "mimetype": "text/x-python",
   "name": "python",
   "nbconvert_exporter": "python",
   "pygments_lexer": "ipython3",
   "version": "3.9.13"
  }
 },
 "nbformat": 4,
 "nbformat_minor": 5
}
