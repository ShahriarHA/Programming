{
 "cells": [
  {
   "cell_type": "code",
   "execution_count": 1,
   "id": "d3ed6ef3",
   "metadata": {},
   "outputs": [
    {
     "name": "stdout",
     "output_type": "stream",
     "text": [
      "2,3,2,1,5,2,4,5,3,2,5,2\n"
     ]
    }
   ],
   "source": [
    "import numpy as np\n",
    "cpu_demands = input(\"Enter the reference string[separate them by commas] : \",)\n",
    "print(cpu_demands)\n",
    "\n",
    "# test case 1 : 2,3,2,1,5,2,4,5,3,2,5,2 ; frame = 3(sir)"
   ]
  },
  {
   "cell_type": "code",
   "execution_count": 2,
   "id": "181e6eef",
   "metadata": {},
   "outputs": [
    {
     "name": "stdout",
     "output_type": "stream",
     "text": [
      "[2, 3, 2, 1, 5, 2, 4, 5, 3, 2, 5, 2]\n"
     ]
    }
   ],
   "source": [
    "cpu_demands_list = cpu_demands.split(\",\")\n",
    "cpu_demands_list = np.array(cpu_demands_list)\n",
    "reference_string = [int(i) for i in cpu_demands_list]\n",
    "\n",
    "print(reference_string)"
   ]
  },
  {
   "cell_type": "code",
   "execution_count": 3,
   "id": "b8822943",
   "metadata": {},
   "outputs": [],
   "source": [
    "frames = int(input(\"enter the total number of frames: \"))"
   ]
  },
  {
   "cell_type": "code",
   "execution_count": 22,
   "id": "286f7403",
   "metadata": {},
   "outputs": [
    {
     "name": "stdout",
     "output_type": "stream",
     "text": [
      "[[None None None None None None None None None None None None]\n",
      " [None None None None None None None None None None None None]\n",
      " [None None None None None None None None None None None None]]\n",
      "[2, 3, 2, 1, 5, 2, 4, 5, 3, 2, 5, 2]\n"
     ]
    }
   ],
   "source": [
    "frames_list = np.empty((frames,len(reference_string)),dtype=object)\n",
    "print(frames_list)\n",
    "print(reference_string)\n"
   ]
  },
  {
   "cell_type": "code",
   "execution_count": 23,
   "id": "0ebaad07",
   "metadata": {},
   "outputs": [
    {
     "name": "stdout",
     "output_type": "stream",
     "text": [
      "[5, 2, 4, 5, 3, 2, 5, 2]\n",
      "this one :  1\n",
      "pages:  []\n",
      "[4, 5, 3, 2, 5, 2]\n",
      "pages:  [3, 2, 1]\n",
      "2\n",
      "[2, 5, 2]\n",
      "this one :  4\n",
      "pages:  []\n",
      "[[2 2 2 2 2 2 4 4 4 2 2 2]\n",
      " [None 3 3 3 3 3 3 3 3 3 3 3]\n",
      " [None None None 1 5 5 5 5 5 5 5 5]]\n",
      "------------final output---------\n",
      "[[2 2 2 2 2 2 4 4 4 2 2 2]\n",
      " [0 3 3 3 3 3 3 3 3 3 3 3]\n",
      " [0 0 0 1 5 5 5 5 5 5 5 5]]\n",
      "['M', 'M', 'H', 'M', 'M', 'H', 'M', 'H', 'H', 'M', 'H', 'H']\n"
     ]
    }
   ],
   "source": [
    "mis_or_hit = []\n",
    "for i in range(len(reference_string)):\n",
    "    if np.all(frames_list == None):\n",
    "        frames_list[0][i] = reference_string[i]\n",
    "        mis_or_hit.append(\"M\")\n",
    "    else:\n",
    "        flag,flag1,flag2 = 0, 0 , 0\n",
    "        flag3 = False\n",
    "        flag4 = False\n",
    "        columns = len(frames_list)\n",
    "        \n",
    "        for a in range(len(frames_list)):\n",
    "            \n",
    "            if frames_list[a][i-1] != reference_string[i]:\n",
    "                flag+=1\n",
    "            if columns == flag:\n",
    "                j=0\n",
    "                while j < len(frames_list):\n",
    "                    if frames_list[j][i-1] == None:\n",
    "                        frames_list[j][i] = reference_string[i]\n",
    "                        break\n",
    "                    else:\n",
    "                        frames_list[j][i] = frames_list[j][i-1]\n",
    "                        flag1+=1\n",
    "                        \n",
    "                        if columns == flag1:\n",
    "                            part_of_ref_string = []\n",
    "                            part_of_ref_string = np.array(part_of_ref_string)\n",
    "                            part_of_ref_string = reference_string[i:]\n",
    "                            print(part_of_ref_string)\n",
    "                            page_track = []\n",
    "                            \n",
    "                            k = 0\n",
    "                            while k < len(frames_list):\n",
    "                                for p in range(len(part_of_ref_string)):\n",
    "                                    \n",
    "                                    if frames_list[k][i] not in part_of_ref_string and flag4 == False:\n",
    "                                        print(\"this one : \",frames_list[k][i])\n",
    "                                        frames_list[k][i] = reference_string[i]\n",
    "                                        l = 0\n",
    "                                        while l < len(frames_list):\n",
    "                                            if k != l:\n",
    "                                                frames_list[l][i] = frames_list[l][i-1]\n",
    "                                            l+=1\n",
    "                                        page_track = []\n",
    "                                        flag3 = True\n",
    "                                        flag4 = True\n",
    "                                        # mis_or_hit.append(\"M\")\n",
    "                                        break\n",
    "                                    if frames_list[k][i] == part_of_ref_string[p] and flag3 == False:\n",
    "                                        page_track.append(p)\n",
    "                                        break\n",
    "                                k+=1\n",
    "                            print(\"pages: \",page_track)\n",
    "                            if len(page_track) != 0:\n",
    "                                max_value = max(page_track)\n",
    "                                print(part_of_ref_string[max_value])\n",
    "                                c = 0\n",
    "                                while c < len(frames_list):\n",
    "                                    if frames_list[c][i] == part_of_ref_string[max_value]:\n",
    "                                        frames_list[c][i] = reference_string[i]\n",
    "                                    else:\n",
    "                                        frames_list[c][i] = frames_list[c][i-1]\n",
    "                                    c+=1\n",
    "                                \n",
    "#                                 print(\"it has\")\n",
    "                            else:\n",
    "#                                 print(\"it hasn't\")\n",
    "                                break\n",
    "                    \n",
    "                    j+=1\n",
    "                mis_or_hit.append(\"M\")    \n",
    "                    \n",
    "                    \n",
    "            if frames_list[a][i-1] == reference_string[i]:\n",
    "                j = 0\n",
    "                while j < len(frames_list):\n",
    "                    frames_list[j][i] = frames_list[j][i-1]\n",
    "                    j+=1\n",
    "                mis_or_hit.append(\"H\")\n",
    "                \n",
    "\n",
    "print(frames_list)\n",
    "print(\"------------final output---------\")\n",
    "for i in range(len(reference_string)):\n",
    "    if np.any(frames_list[:, i] == None):\n",
    "        frames_list[np.where(frames_list[:, i] == None), i] = 0\n",
    "print(frames_list)\n",
    "print(mis_or_hit)"
   ]
  },
  {
   "cell_type": "code",
   "execution_count": 21,
   "id": "0bf6337c",
   "metadata": {},
   "outputs": [
    {
     "name": "stdout",
     "output_type": "stream",
     "text": [
      "6 6\n",
      "Ratio of miss and hit:  50.0 50.0\n"
     ]
    }
   ],
   "source": [
    "total_hit = 0\n",
    "total_miss = 0\n",
    "for l in range(len(mis_or_hit)):\n",
    "    if mis_or_hit[l] == 'M':\n",
    "        total_miss+=1\n",
    "    else:\n",
    "        total_hit+=1\n",
    "print(total_miss,total_hit)\n",
    "ratio_of_hit = (total_hit/len(mis_or_hit))*100\n",
    "ratio_of_miss = (total_miss/len(mis_or_hit)*100)\n",
    "print(\"Ratio of miss and hit: \", ratio_of_miss,ratio_of_hit)"
   ]
  },
  {
   "cell_type": "code",
   "execution_count": null,
   "id": "fd1cab05",
   "metadata": {},
   "outputs": [],
   "source": []
  }
 ],
 "metadata": {
  "kernelspec": {
   "display_name": "Python 3 (ipykernel)",
   "language": "python",
   "name": "python3"
  },
  "language_info": {
   "codemirror_mode": {
    "name": "ipython",
    "version": 3
   },
   "file_extension": ".py",
   "mimetype": "text/x-python",
   "name": "python",
   "nbconvert_exporter": "python",
   "pygments_lexer": "ipython3",
   "version": "3.9.13"
  }
 },
 "nbformat": 4,
 "nbformat_minor": 5
}
