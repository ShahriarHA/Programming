{
 "cells": [
  {
   "cell_type": "code",
   "execution_count": 1,
   "id": "2d14996d-2dd5-4975-9b4e-a2b8d5c7b6a1",
   "metadata": {},
   "outputs": [
    {
     "name": "stdout",
     "output_type": "stream",
     "text": [
      "[[1, 1, 2, 3], [4, 5, 6, 9], [7, 8, 5, 41]]\n"
     ]
    }
   ],
   "source": [
    "k = [[1,1,2,3,],[4,5,6,9],[7,8,5,41]]\n",
    "print(k)"
   ]
  },
  {
   "cell_type": "code",
   "execution_count": 12,
   "id": "ad94b44c-bee6-49a7-93b8-a2726e862831",
   "metadata": {},
   "outputs": [
    {
     "ename": "SyntaxError",
     "evalue": "invalid syntax (666762370.py, line 3)",
     "output_type": "error",
     "traceback": [
      "\u001b[1;36m  File \u001b[1;32m\"C:\\Users\\HP\\AppData\\Local\\Temp\\ipykernel_11664\\666762370.py\"\u001b[1;36m, line \u001b[1;32m3\u001b[0m\n\u001b[1;33m    h = [i:j]\u001b[0m\n\u001b[1;37m          ^\u001b[0m\n\u001b[1;31mSyntaxError\u001b[0m\u001b[1;31m:\u001b[0m invalid syntax\n"
     ]
    }
   ],
   "source": [
    "for i in range(len(k)):\n",
    "    for j in range(len(k)):\n",
    "        h = [i:j]\n",
    "        print(h)"
   ]
  },
  {
   "cell_type": "code",
   "execution_count": null,
   "id": "d0f1a056-9cd7-46d6-9587-9633e8509157",
   "metadata": {},
   "outputs": [],
   "source": []
  }
 ],
 "metadata": {
  "kernelspec": {
   "display_name": "Python 3 (ipykernel)",
   "language": "python",
   "name": "python3"
  },
  "language_info": {
   "codemirror_mode": {
    "name": "ipython",
    "version": 3
   },
   "file_extension": ".py",
   "mimetype": "text/x-python",
   "name": "python",
   "nbconvert_exporter": "python",
   "pygments_lexer": "ipython3",
   "version": "3.9.13"
  }
 },
 "nbformat": 4,
 "nbformat_minor": 5
}
