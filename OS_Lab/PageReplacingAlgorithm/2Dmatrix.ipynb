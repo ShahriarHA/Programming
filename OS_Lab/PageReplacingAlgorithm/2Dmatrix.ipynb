{
 "cells": [
  {
   "cell_type": "code",
   "execution_count": 1,
   "id": "2d14996d-2dd5-4975-9b4e-a2b8d5c7b6a1",
   "metadata": {},
   "outputs": [
    {
     "name": "stdout",
     "output_type": "stream",
     "text": [
      "[[ 1  1  2  3]\n",
      " [ 4  5  6  9]\n",
      " [ 7  8  5 41]]\n"
     ]
    }
   ],
   "source": [
    "import numpy as np\n",
    "k =np.array([[1,1,2,3,],[4,5,6,9],[7,8,5,41]])\n",
    "print(k)"
   ]
  },
  {
   "cell_type": "code",
   "execution_count": 2,
   "id": "ad94b44c-bee6-49a7-93b8-a2726e862831",
   "metadata": {},
   "outputs": [
    {
     "data": {
      "text/plain": [
       "array([[1],\n",
       "       [5],\n",
       "       [8]])"
      ]
     },
     "execution_count": 2,
     "metadata": {},
     "output_type": "execute_result"
    }
   ],
   "source": [
    "k[:,1:2]"
   ]
  },
  {
   "cell_type": "code",
   "execution_count": 3,
   "id": "d0f1a056-9cd7-46d6-9587-9633e8509157",
   "metadata": {},
   "outputs": [
    {
     "name": "stdout",
     "output_type": "stream",
     "text": [
      "****\n",
      " ***\n",
      "  **\n",
      "   *\n"
     ]
    }
   ],
   "source": [
    "for i in range(4):\n",
    "    for j in range(i):\n",
    "        print(\" \", end=\"\")\n",
    "    for k in range(4 - i):\n",
    "        print(\"*\", end=\"\")\n",
    "    print()\n"
   ]
  },
  {
   "cell_type": "code",
   "execution_count": 4,
   "id": "efa3dbb7",
   "metadata": {},
   "outputs": [
    {
     "name": "stdout",
     "output_type": "stream",
     "text": [
      " ****\n",
      "   ***\n",
      "     **\n",
      "       *\n"
     ]
    }
   ],
   "source": [
    "rows = 4  # Number of rows in the pattern\n",
    "\n",
    "for i in range(rows):\n",
    "    print(\" \" * (2 * i), \"*\" * (rows - i))\n"
   ]
  },
  {
   "cell_type": "code",
   "execution_count": 5,
   "id": "bb0f329c",
   "metadata": {},
   "outputs": [
    {
     "name": "stdout",
     "output_type": "stream",
     "text": [
      "****\n",
      " ***\n",
      "  **\n",
      "   *\n"
     ]
    }
   ],
   "source": [
    "rows = 4\n",
    "\n",
    "for i in range(rows):\n",
    "    print(\" \" * i + \"*\" * (rows - i))\n"
   ]
  },
  {
   "cell_type": "code",
   "execution_count": null,
   "id": "63dc0ec5",
   "metadata": {},
   "outputs": [],
   "source": []
  },
  {
   "cell_type": "code",
   "execution_count": null,
   "id": "c4d497ab",
   "metadata": {},
   "outputs": [],
   "source": []
  }
 ],
 "metadata": {
  "kernelspec": {
   "display_name": "Python 3 (ipykernel)",
   "language": "python",
   "name": "python3"
  },
  "language_info": {
   "codemirror_mode": {
    "name": "ipython",
    "version": 3
   },
   "file_extension": ".py",
   "mimetype": "text/x-python",
   "name": "python",
   "nbconvert_exporter": "python",
   "pygments_lexer": "ipython3",
   "version": "3.9.13"
  }
 },
 "nbformat": 4,
 "nbformat_minor": 5
}
