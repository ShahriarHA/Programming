{
 "cells": [
  {
   "cell_type": "code",
   "execution_count": 1,
   "id": "42a1f227",
   "metadata": {},
   "outputs": [
    {
     "name": "stdout",
     "output_type": "stream",
     "text": [
      "2,3,2,1,5,2,4,5,3,2,5,2\n"
     ]
    }
   ],
   "source": [
    "import numpy as np\n",
    "cpu_demands = input(\"Enter the reference string[separate them by commas] : \",)\n",
    "print(cpu_demands)\n",
    "\n",
    "# test case 1 : 2,3,2,1,5,2,4,5,3,2,5,2 ; frame = 3(sir)"
   ]
  },
  {
   "cell_type": "code",
   "execution_count": 2,
   "id": "46c75ab7",
   "metadata": {},
   "outputs": [
    {
     "name": "stdout",
     "output_type": "stream",
     "text": [
      "[2, 3, 2, 1, 5, 2, 4, 5, 3, 2, 5, 2]\n"
     ]
    }
   ],
   "source": [
    "cpu_demands_list = cpu_demands.split(\",\")\n",
    "cpu_demands_list = np.array(cpu_demands_list)\n",
    "reference_string = [int(i) for i in cpu_demands_list]\n",
    "\n",
    "print(reference_string)"
   ]
  },
  {
   "cell_type": "code",
   "execution_count": 3,
   "id": "ca31a836",
   "metadata": {},
   "outputs": [],
   "source": [
    "frames = int(input(\"enter the total number of frames: \"))"
   ]
  },
  {
   "cell_type": "code",
   "execution_count": 14,
   "id": "64dd234c",
   "metadata": {},
   "outputs": [
    {
     "name": "stdout",
     "output_type": "stream",
     "text": [
      "[[None None None None None None None None None None None None]\n",
      " [None None None None None None None None None None None None]\n",
      " [None None None None None None None None None None None None]]\n",
      "[2, 3, 2, 1, 5, 2, 4, 5, 3, 2, 5, 2]\n"
     ]
    }
   ],
   "source": [
    "frames_list = np.empty((frames,len(reference_string)),dtype=object)\n",
    "print(frames_list)\n",
    "print(reference_string)\n"
   ]
  },
  {
   "cell_type": "code",
   "execution_count": 15,
   "id": "f9e91c04",
   "metadata": {},
   "outputs": [
    {
     "name": "stdout",
     "output_type": "stream",
     "text": [
      "[5, 2, 4, 5, 3, 2, 5, 2]\n",
      "[2, 4, 5, 3, 2, 5, 2]\n",
      "[4, 5, 3, 2, 5, 2]\n",
      "[5, 3, 2, 5, 2]\n",
      "[3, 2, 5, 2]\n",
      "[2, 5, 2]\n",
      "[5, 2]\n",
      "[2]\n",
      "[[2 2 2 2 5 2 4 5 3 2 5 2]\n",
      " [None 3 3 3 5 2 4 5 3 2 5 2]\n",
      " [None None None 1 5 2 4 5 3 2 5 2]]\n",
      "------------\n",
      "[[2 2 2 2 5 2 4 5 3 2 5 2]\n",
      " [0 3 3 3 5 2 4 5 3 2 5 2]\n",
      " [0 0 0 1 5 2 4 5 3 2 5 2]]\n"
     ]
    }
   ],
   "source": [
    "for i in range(len(reference_string)):\n",
    "    if np.all(frames_list == None):\n",
    "        frames_list[0][i] = reference_string[i]\n",
    "    else:\n",
    "        flag = 0\n",
    "        flag1 = 0\n",
    "        flag2 = 0\n",
    "        columns = len(frames_list)\n",
    "        \n",
    "        for a in range(len(frames_list)):\n",
    "            if frames_list[a][i-1] != reference_string[i]:\n",
    "                flag+=1\n",
    "            if columns == flag:\n",
    "                j = 0\n",
    "                while j < len(frames_list):\n",
    "                    if frames_list[j][i-1] == None:\n",
    "                        frames_list[j][i] = reference_string[i]\n",
    "                        break\n",
    "                    else:\n",
    "                        frames_list[j][i] = frames_list[j][i-1]\n",
    "                        flag1+=1\n",
    "                        if columns == flag1:\n",
    "                            part_of_ref_string = []\n",
    "                            part_of_ref_string = np.array(part_of_ref_string)\n",
    "                            part_of_ref_string = reference_string[i:]\n",
    "                            print(part_of_ref_string)\n",
    "                            page_track = []\n",
    "                            k = 0\n",
    "                            while k < len(frames_list):\n",
    "                                for p in range(len(part_of_ref_string)):\n",
    "                                    if frames_list[k][i] == part_of_ref_string[p]:\n",
    "                                        page_track.append(p)\n",
    "                                        flag2+=1\n",
    "                                        if flag2 == columns:\n",
    "                                            print(page_track)\n",
    "                                            max_value = max(page_track)\n",
    "                                            h = 0\n",
    "                                            while h < len(frames_list):\n",
    "                                                if frames_list[h][i] == page_track[max_value]:\n",
    "                                                    frames_list[h][i] = reference_string[i]\n",
    "                                                h+=1\n",
    "                                    elif np.any(part_of_ref_string != frames_list[k][i]):\n",
    "                                        frames_list[k][i] = reference_string[i]\n",
    "                                        break\n",
    "                                        \n",
    "                                k+=1\n",
    "                    j+=1\n",
    "            if frames_list[a][i-1] == reference_string[i]:\n",
    "                j = 0\n",
    "                while j < len(frames_list):\n",
    "                    frames_list[j][i] = frames_list[j][i-1]\n",
    "                    j+=1\n",
    "                \n",
    "                            \n",
    "            \n",
    "\n",
    "print(frames_list)\n",
    "print(\"------------\")\n",
    "for i in range(len(reference_string)):\n",
    "    if np.any(frames_list[:, i] == None):\n",
    "        frames_list[np.where(frames_list[:, i] == None), i] = 0\n",
    "print(frames_list)"
   ]
  },
  {
   "cell_type": "code",
   "execution_count": null,
   "id": "de1fbf9a",
   "metadata": {},
   "outputs": [],
   "source": []
  }
 ],
 "metadata": {
  "kernelspec": {
   "display_name": "Python 3 (ipykernel)",
   "language": "python",
   "name": "python3"
  },
  "language_info": {
   "codemirror_mode": {
    "name": "ipython",
    "version": 3
   },
   "file_extension": ".py",
   "mimetype": "text/x-python",
   "name": "python",
   "nbconvert_exporter": "python",
   "pygments_lexer": "ipython3",
   "version": "3.9.13"
  }
 },
 "nbformat": 4,
 "nbformat_minor": 5
}
