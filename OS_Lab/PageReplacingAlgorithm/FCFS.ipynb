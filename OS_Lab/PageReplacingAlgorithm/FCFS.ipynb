{
 "cells": [
  {
   "cell_type": "code",
   "execution_count": 62,
   "id": "a09d60d3",
   "metadata": {},
   "outputs": [
    {
     "name": "stdout",
     "output_type": "stream",
     "text": [
      "7,0,1,2,0,3,0,4,2,3,0,3,1,2,0\n"
     ]
    }
   ],
   "source": [
    "import numpy as np\n",
    "cpu_demands = input(\"Enter the reference string[separate them by commas] : \",)\n",
    "print(cpu_demands)\n",
    "# test case 1 : 2,3,2,1,5,2,4,5,3,2,5,2 ; frame = 3(sir)\n",
    "# test case 2 : 7,0,1,2,0,3,0,4,2,3,0,3,1,2,0 ; frame = 3"
   ]
  },
  {
   "cell_type": "code",
   "execution_count": 63,
   "id": "08b310c0",
   "metadata": {},
   "outputs": [
    {
     "name": "stdout",
     "output_type": "stream",
     "text": [
      "[7, 0, 1, 2, 0, 3, 0, 4, 2, 3, 0, 3, 1, 2, 0]\n"
     ]
    }
   ],
   "source": [
    "cpu_demands_list = cpu_demands.split(\",\")\n",
    "cpu_demands_list = np.array(cpu_demands_list)\n",
    "reference_string = [int(i) for i in cpu_demands_list]\n",
    "\n",
    "print(reference_string)"
   ]
  },
  {
   "cell_type": "code",
   "execution_count": 64,
   "id": "7e00cdbb",
   "metadata": {},
   "outputs": [],
   "source": [
    "frames = int(input(\"enter the total number of frames: \"))"
   ]
  },
  {
   "cell_type": "code",
   "execution_count": 65,
   "id": "97afcacb",
   "metadata": {},
   "outputs": [
    {
     "name": "stdout",
     "output_type": "stream",
     "text": [
      "[[None None None None None None None None None None None None None None\n",
      "  None]\n",
      " [None None None None None None None None None None None None None None\n",
      "  None]\n",
      " [None None None None None None None None None None None None None None\n",
      "  None]]\n",
      "[7, 0, 1, 2, 0, 3, 0, 4, 2, 3, 0, 3, 1, 2, 0]\n"
     ]
    }
   ],
   "source": [
    "\n",
    "frames_list = np.empty((frames,len(reference_string)),dtype=object)\n",
    "print(frames_list)\n",
    "print(reference_string)\n",
    "    "
   ]
  },
  {
   "cell_type": "code",
   "execution_count": 66,
   "id": "e34ab8b6",
   "metadata": {},
   "outputs": [
    {
     "name": "stdout",
     "output_type": "stream",
     "text": [
      "--------------\n",
      "[[7 7 7 2 2 2 2 4 4 4 0 0 0 0 0]\n",
      " [None 0 0 0 0 3 3 3 2 2 2 2 1 1 1]\n",
      " [None None 1 1 1 1 0 0 0 3 3 3 3 2 2]]\n",
      "3\n",
      "------------------\n",
      "reference string:  [7, 0, 1, 2, 0, 3, 0, 4, 2, 3, 0, 3, 1, 2, 0]\n",
      "[[7 7 7 2 2 2 2 4 4 4 0 0 0 0 0]\n",
      " [0 0 0 0 0 3 3 3 2 2 2 2 1 1 1]\n",
      " [0 0 1 1 1 1 0 0 0 3 3 3 3 2 2]]\n",
      "['M', 'M', 'M', 'M', 'H', 'M', 'M', 'M', 'M', 'M', 'M', 'H', 'M', 'M', 'H']\n"
     ]
    }
   ],
   "source": [
    "f_c_value = 0\n",
    "f_c_queue = []\n",
    "mis_or_hi = []\n",
    "# if f_c_value < len(reference_string):\n",
    "#     for j in range(len)\n",
    "for i in range(len(reference_string)):\n",
    "    # print(frames_list)\n",
    "    if np.all(frames_list == None):\n",
    "        frames_list[0][i] = reference_string[i]\n",
    "        f_c_queue.append(reference_string[i])\n",
    "        mis_or_hi.append(\"M\")\n",
    "        # print(\"again \\n\")\n",
    "    else:\n",
    "        f_c_queue.append(reference_string[i])\n",
    "        flag = 0\n",
    "        flag1 = 0\n",
    "        columns = len(frames_list)\n",
    "        for a in range(len(frames_list)):\n",
    "            if frames_list[a][i-1] != reference_string[i]:\n",
    "                flag+=1\n",
    "                # if len(f_c_queue) == i:\n",
    "                #     f_c_queue.append(reference_string[i])\n",
    "            if columns == flag:\n",
    "                # if len(f_c_queue) == i:\n",
    "                #     f_c_queue.append(reference_string[i])\n",
    "                # print('hi')\n",
    "                j=0\n",
    "                while j < len(frames_list):\n",
    "                    if frames_list[j][i-1] == None:\n",
    "                        frames_list[j][i] = reference_string[i]\n",
    "                        break\n",
    "                    else:\n",
    "                        frames_list[j][i] = frames_list[j][i-1]\n",
    "                        flag1+=1\n",
    "                        if columns == flag1:# updating fc value\n",
    "                            j = 0\n",
    "                            while j < len(frames_list):\n",
    "                                if frames_list[j][i] == f_c_queue[f_c_value]:\n",
    "                                    frames_list[j][i] = reference_string[i]\n",
    "                                    f_c_value+=1\n",
    "                                    break\n",
    "                                j+=1\n",
    "                    j+=1\n",
    "                mis_or_hi.append('M')\n",
    "            # print(\"j = :\",a)\n",
    "            if frames_list[a][i-1] == reference_string[i]:\n",
    "                f_c_queue.pop()\n",
    "                j = 0\n",
    "                while j < len(frames_list):\n",
    "                    frames_list[j][i] = frames_list[j][i-1]\n",
    "                    j+=1\n",
    "                mis_or_hi.append('H')\n",
    "                # f_c_value+=1 # if hit\n",
    "                \n",
    "\n",
    "\n",
    "        \n",
    "    # print(frames_list[:,i])\n",
    "    # print(f_c_queue)\n",
    "    # print(f_c_value)\n",
    "print(\"--------------\")\n",
    "\n",
    "print(frames_list)\n",
    "print(len(frames_list))\n",
    "print(\"------------------\")\n",
    "print('reference string: ',reference_string)\n",
    "for i in range(len(reference_string)):\n",
    "    if np.any(frames_list[:, i] == None):\n",
    "        frames_list[np.where(frames_list[:, i] == None), i] = 0\n",
    "print(frames_list)\n",
    "# print('queue: ',f_c_queue)\n",
    "print(mis_or_hi)\n"
   ]
  },
  {
   "cell_type": "code",
   "execution_count": 67,
   "id": "75ed17d1",
   "metadata": {},
   "outputs": [
    {
     "name": "stdout",
     "output_type": "stream",
     "text": [
      "1\n"
     ]
    }
   ],
   "source": [
    "a = [1]\n",
    "print(len(a))"
   ]
  },
  {
   "cell_type": "code",
   "execution_count": 68,
   "id": "6e47c30f",
   "metadata": {},
   "outputs": [
    {
     "name": "stdout",
     "output_type": "stream",
     "text": [
      "12 3\n",
      "Ratio of miss and hit:  80.0 20.0\n"
     ]
    }
   ],
   "source": [
    "total_hit = 0\n",
    "total_miss = 0\n",
    "for l in range(len(mis_or_hi)):\n",
    "    if mis_or_hi[l] == 'M':\n",
    "        total_miss+=1\n",
    "    else:\n",
    "        total_hit+=1\n",
    "print(total_miss,total_hit)\n",
    "ratio_of_hit = (total_hit/len(mis_or_hi))*100\n",
    "ratio_of_miss = (total_miss/len(mis_or_hi)*100)\n",
    "print(\"Ratio of miss and hit: \", ratio_of_miss,ratio_of_hit)"
   ]
  },
  {
   "cell_type": "code",
   "execution_count": null,
   "id": "c58a8d25",
   "metadata": {},
   "outputs": [],
   "source": []
  }
 ],
 "metadata": {
  "kernelspec": {
   "display_name": "Python 3 (ipykernel)",
   "language": "python",
   "name": "python3"
  },
  "language_info": {
   "codemirror_mode": {
    "name": "ipython",
    "version": 3
   },
   "file_extension": ".py",
   "mimetype": "text/x-python",
   "name": "python",
   "nbconvert_exporter": "python",
   "pygments_lexer": "ipython3",
   "version": "3.9.13"
  }
 },
 "nbformat": 4,
 "nbformat_minor": 5
}
