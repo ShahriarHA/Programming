{
 "cells": [
  {
   "cell_type": "code",
   "execution_count": 1,
   "id": "cc439282",
   "metadata": {},
   "outputs": [
    {
     "name": "stdout",
     "output_type": "stream",
     "text": [
      "Enter the number of Process: 4\n"
     ]
    }
   ],
   "source": [
    "n = int(input(\"Enter the number of Process: \"))\n"
   ]
  },
  {
   "cell_type": "code",
   "execution_count": 2,
   "id": "7afba8b7",
   "metadata": {},
   "outputs": [
    {
     "name": "stdout",
     "output_type": "stream",
     "text": [
      "[[0, 0, 0, 0, 0, 0, 0], [0, 0, 0, 0, 0, 0, 0], [0, 0, 0, 0, 0, 0, 0], [0, 0, 0, 0, 0, 0, 0]]\n"
     ]
    }
   ],
   "source": [
    "arr = [[0 for i in range(7)] for j in range(n)]\n",
    "print(arr)"
   ]
  },
  {
   "cell_type": "code",
   "execution_count": 4,
   "id": "58dae196",
   "metadata": {},
   "outputs": [
    {
     "name": "stdout",
     "output_type": "stream",
     "text": [
      "1 0 2\n",
      "2 1 2\n",
      "3 5 3\n",
      "4 6 4\n",
      "[[1, 0, 2, 0, 0, 0, 0], [2, 1, 2, 0, 0, 0, 0], [3, 5, 3, 0, 0, 0, 0], [4, 6, 4, 0, 0, 0, 0]]\n"
     ]
    }
   ],
   "source": [
    "for i in range(n):\n",
    "    p_id,at,bt = input().split()\n",
    "    arr[i][0] = int(p_id)\n",
    "    arr[i][1] = int(at)\n",
    "    arr[i][2] = int(bt)\n",
    "print(arr)\n",
    "    "
   ]
  },
  {
   "cell_type": "code",
   "execution_count": 5,
   "id": "c96a5b9a",
   "metadata": {},
   "outputs": [
    {
     "name": "stdout",
     "output_type": "stream",
     "text": [
      "[[1, 0, 2, 0, 0, 0, 0], [2, 1, 2, 0, 0, 0, 0], [3, 5, 3, 0, 0, 0, 0], [4, 6, 4, 0, 0, 0, 0]]\n"
     ]
    }
   ],
   "source": [
    "arr.sort(key=lambda x:x[1])\n",
    "print(arr)"
   ]
  },
  {
   "cell_type": "code",
   "execution_count": 22,
   "id": "42771b05",
   "metadata": {},
   "outputs": [
    {
     "name": "stdout",
     "output_type": "stream",
     "text": [
      "[0, 2, 4, 5, 8, 12]\n"
     ]
    }
   ],
   "source": [
    "avg_ct = avg_tt = avg_wt = avg_rt = 0\n",
    "current_time = 0\n",
    "Gantt_chart = []\n",
    "for i in range(n):\n",
    "    at = arr[i][1]\n",
    "    bt = arr[i][2]\n",
    "    #print(\"at = \",at)\n",
    "    if current_time < at:\n",
    "        current_time = at\n",
    "    starting_time = current_time\n",
    "    arr[i][3] = ct = starting_time + bt#complition time\n",
    "    #print(ct)\n",
    "    arr[i][4] = tt = ct-at#turnaround time\n",
    "    arr[i][5] = wt = tt - bt#waiting time\n",
    "    arr[i][6] = rt = starting_time - at#response time\n",
    "    \n",
    "    avg_ct = avg_ct + ct\n",
    "    avg_tt = avg_tt + tt\n",
    "    avg_wt = avg_wt + wt\n",
    "    avg_rt = avg_rt + rt\n",
    "    \n",
    "    #print(starting_time,ct)\n",
    "    Gantt_chart.append(starting_time)\n",
    "    if starting_time == arr[i-1][3]:\n",
    "        Gantt_chart.append(ct)\n",
    "\n",
    "    current_time = ct\n",
    "print(Gantt_chart)\n",
    "    "
   ]
  },
  {
   "cell_type": "code",
   "execution_count": 23,
   "id": "951b41e6",
   "metadata": {},
   "outputs": [
    {
     "name": "stdout",
     "output_type": "stream",
     "text": [
      "[[1, 0, 2, 2, 2, 0, 0], [2, 1, 2, 4, 3, 1, 1], [3, 5, 3, 8, 3, 0, 0], [4, 6, 4, 12, 6, 2, 2]]\n"
     ]
    }
   ],
   "source": [
    "print(arr)"
   ]
  },
  {
   "cell_type": "code",
   "execution_count": 25,
   "id": "b4880bd4",
   "metadata": {},
   "outputs": [
    {
     "name": "stdout",
     "output_type": "stream",
     "text": [
      "average complition time :  6.5\n",
      "average turnaround time :  3.5\n"
     ]
    }
   ],
   "source": [
    "print(\"average complition time : \", avg_ct/n)\n",
    "print(\"average turnaround time : \",avg_tt/n)"
   ]
  },
  {
   "cell_type": "code",
   "execution_count": null,
   "id": "f3c94cc0",
   "metadata": {},
   "outputs": [],
   "source": []
  }
 ],
 "metadata": {
  "kernelspec": {
   "display_name": "Python 3 (ipykernel)",
   "language": "python",
   "name": "python3"
  },
  "language_info": {
   "codemirror_mode": {
    "name": "ipython",
    "version": 3
   },
   "file_extension": ".py",
   "mimetype": "text/x-python",
   "name": "python",
   "nbconvert_exporter": "python",
   "pygments_lexer": "ipython3",
   "version": "3.9.13"
  }
 },
 "nbformat": 4,
 "nbformat_minor": 5
}
