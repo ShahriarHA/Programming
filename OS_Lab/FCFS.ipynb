{
 "cells": [
  {
   "cell_type": "code",
   "execution_count": 2,
   "id": "5a6a87d3",
   "metadata": {},
   "outputs": [
    {
     "name": "stdout",
     "output_type": "stream",
     "text": [
      "4\n"
     ]
    }
   ],
   "source": [
    "n = int(input())"
   ]
  },
  {
   "cell_type": "code",
   "execution_count": 3,
   "id": "1604b50a",
   "metadata": {},
   "outputs": [],
   "source": [
    "arr = [[0 for j in range(7)]for i in range(n)]"
   ]
  },
  {
   "cell_type": "code",
   "execution_count": 4,
   "id": "f91f3bfa",
   "metadata": {},
   "outputs": [
    {
     "name": "stdout",
     "output_type": "stream",
     "text": [
      "[[0, 0, 0, 0, 0, 0, 0], [0, 0, 0, 0, 0, 0, 0], [0, 0, 0, 0, 0, 0, 0], [0, 0, 0, 0, 0, 0, 0]]\n"
     ]
    }
   ],
   "source": [
    "print(arr)"
   ]
  },
  {
   "cell_type": "code",
   "execution_count": 5,
   "id": "485ef054",
   "metadata": {},
   "outputs": [
    {
     "name": "stdout",
     "output_type": "stream",
     "text": [
      "1 0 2\n",
      "2 1 2\n",
      "3 5 3\n",
      "4 6 4\n",
      "[['1', '0', '2', 0, 0, 0, 0], ['2', '1', '2', 0, 0, 0, 0], ['3', '5', '3', 0, 0, 0, 0], ['4', '6', '4', 0, 0, 0, 0]]\n"
     ]
    }
   ],
   "source": [
    "for i in range(n):\n",
    "    p_id, at, bt = input().split()\n",
    "    arr[i][0] = p_id\n",
    "    arr[i][1] = at\n",
    "    arr[i][2] = bt\n",
    "print(arr)"
   ]
  },
  {
   "cell_type": "code",
   "execution_count": 6,
   "id": "11cb36fe",
   "metadata": {},
   "outputs": [
    {
     "name": "stdout",
     "output_type": "stream",
     "text": [
      "[['1', '0', '2', 0, 0, 0, 0], ['2', '1', '2', 0, 0, 0, 0], ['3', '5', '3', 0, 0, 0, 0], ['4', '6', '4', 0, 0, 0, 0]]\n"
     ]
    }
   ],
   "source": [
    "arr.sort(key=lambda x:x[1])\n",
    "print(arr)"
   ]
  },
  {
   "cell_type": "code",
   "execution_count": 16,
   "id": "e663286b",
   "metadata": {},
   "outputs": [
    {
     "name": "stdout",
     "output_type": "stream",
     "text": [
      "[0]\n",
      "[0, 2, 4]\n",
      "[0, 2, 4, 5]\n",
      "[0, 2, 4, 5, 8, 12]\n"
     ]
    }
   ],
   "source": [
    "current_time = 0\n",
    "Gantt_chart = []\n",
    "for i in range(n):\n",
    "    at = int(arr[i][1])\n",
    "    bt = int(arr[i][2])\n",
    "    \n",
    "    if current_time < at:\n",
    "        current_time = at\n",
    "    starting_time = current_time\n",
    "    \n",
    "    arr[i][3] = ct = starting_time + bt\n",
    "    arr[i][4] = tt = ct - at\n",
    "    arr[i][5] = wt = tt - bt\n",
    "    arr[i][6] = rt = starting_time - at\n",
    "    \n",
    "    Gantt_chart.append(starting_time)\n",
    "    if starting_time == arr[i-1][3]:\n",
    "        Gantt_chart.append(ct)\n",
    "    print(Gantt_chart)\n",
    "    current_time = ct\n"
   ]
  },
  {
   "cell_type": "code",
   "execution_count": 17,
   "id": "062e8618",
   "metadata": {},
   "outputs": [
    {
     "name": "stdout",
     "output_type": "stream",
     "text": [
      "[['1', '0', '2', 2, 2, 0, 0], ['2', '1', '2', 4, 3, 1, 1], ['3', '5', '3', 8, 3, 0, 0], ['4', '6', '4', 12, 6, 2, 2]]\n"
     ]
    }
   ],
   "source": [
    "print(arr)"
   ]
  },
  {
   "cell_type": "code",
   "execution_count": null,
   "id": "5ca87f25",
   "metadata": {},
   "outputs": [],
   "source": []
  }
 ],
 "metadata": {
  "kernelspec": {
   "display_name": "Python 3 (ipykernel)",
   "language": "python",
   "name": "python3"
  },
  "language_info": {
   "codemirror_mode": {
    "name": "ipython",
    "version": 3
   },
   "file_extension": ".py",
   "mimetype": "text/x-python",
   "name": "python",
   "nbconvert_exporter": "python",
   "pygments_lexer": "ipython3",
   "version": "3.9.13"
  }
 },
 "nbformat": 4,
 "nbformat_minor": 5
}
