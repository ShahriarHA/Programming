{
 "cells": [
  {
   "cell_type": "code",
   "execution_count": 42,
   "id": "d441c423",
   "metadata": {},
   "outputs": [
    {
     "name": "stdout",
     "output_type": "stream",
     "text": [
      "Nb of process: 5\n"
     ]
    }
   ],
   "source": [
    "n = int(input(\"Nb of process: \"))"
   ]
  },
  {
   "cell_type": "code",
   "execution_count": 43,
   "id": "caff5bdf",
   "metadata": {},
   "outputs": [],
   "source": [
    "arr = [[0 for i in range(7)] for j in range(n)]"
   ]
  },
  {
   "cell_type": "code",
   "execution_count": 44,
   "id": "918c12f5",
   "metadata": {},
   "outputs": [
    {
     "name": "stdout",
     "output_type": "stream",
     "text": [
      "[[0, 0, 0, 0, 0, 0, 0], [0, 0, 0, 0, 0, 0, 0], [0, 0, 0, 0, 0, 0, 0], [0, 0, 0, 0, 0, 0, 0], [0, 0, 0, 0, 0, 0, 0]]\n"
     ]
    }
   ],
   "source": [
    "print(arr)"
   ]
  },
  {
   "cell_type": "code",
   "execution_count": 45,
   "id": "889c9465",
   "metadata": {},
   "outputs": [
    {
     "name": "stdout",
     "output_type": "stream",
     "text": [
      "1 2 5\n",
      "2 1 2\n",
      "3 4 6\n",
      "4 0 8\n",
      "5 3 1\n"
     ]
    }
   ],
   "source": [
    "for i in range(n):\n",
    "    pid, at, bt = input().split()\n",
    "    arr[i][0] = int(pid)\n",
    "    arr[i][1] = int(at)\n",
    "    arr[i][2] = int(bt)"
   ]
  },
  {
   "cell_type": "code",
   "execution_count": 46,
   "id": "d82332c1",
   "metadata": {},
   "outputs": [
    {
     "name": "stdout",
     "output_type": "stream",
     "text": [
      "[[1, 2, 5, 0, 0, 0, 0], [2, 1, 2, 0, 0, 0, 0], [3, 4, 6, 0, 0, 0, 0], [4, 0, 8, 0, 0, 0, 0], [5, 3, 1, 0, 0, 0, 0]]\n"
     ]
    }
   ],
   "source": [
    "print(arr)"
   ]
  },
  {
   "cell_type": "code",
   "execution_count": 47,
   "id": "71af3b49",
   "metadata": {},
   "outputs": [],
   "source": [
    "arr = sorted(arr, key=lambda x:x[1])"
   ]
  },
  {
   "cell_type": "code",
   "execution_count": 48,
   "id": "0906a599",
   "metadata": {},
   "outputs": [
    {
     "name": "stdout",
     "output_type": "stream",
     "text": [
      "[[4, 0, 8, 0, 0, 0, 0], [2, 1, 2, 0, 0, 0, 0], [1, 2, 5, 0, 0, 0, 0], [5, 3, 1, 0, 0, 0, 0], [3, 4, 6, 0, 0, 0, 0]]\n"
     ]
    },
    {
     "data": {
      "text/plain": [
       "5"
      ]
     },
     "execution_count": 48,
     "metadata": {},
     "output_type": "execute_result"
    }
   ],
   "source": [
    "print(arr)\n",
    "len(arr)"
   ]
  },
  {
   "cell_type": "code",
   "execution_count": 49,
   "id": "7a0bfde1",
   "metadata": {},
   "outputs": [],
   "source": [
    "def bubbleSort(arr, k):\n",
    "    for i in range(k, len(arr)):\n",
    "        for j in range(k, len(arr) + k - i - 1):\n",
    "            if arr[j][2] > arr[j+1][2] and arr[j][1] <= current_time and arr[j+1][1] <= current_time :\n",
    "                arr[j], arr[j+1] = arr[j+1], arr[j]\n",
    "                \n",
    "    return(arr)\n",
    "        "
   ]
  },
  {
   "cell_type": "code",
   "execution_count": 50,
   "id": "541accf4",
   "metadata": {},
   "outputs": [
    {
     "name": "stdout",
     "output_type": "stream",
     "text": [
      "[[4, 0, 8, 0, 0, 0, 0], [2, 1, 2, 0, 0, 0, 0], [1, 2, 5, 0, 0, 0, 0], [5, 3, 1, 0, 0, 0, 0], [3, 4, 6, 0, 0, 0, 0]]\n",
      "[[4, 0, 8, 0, 8, 0, 8], [5, 3, 1, 0, 0, 0, 0], [2, 1, 2, 0, 0, 0, 0], [1, 2, 5, 0, 0, 0, 0], [3, 4, 6, 0, 0, 0, 0]]\n",
      "[[4, 0, 8, 0, 8, 0, 8], [5, 3, 1, 5, 9, 5, 6], [2, 1, 2, 0, 0, 0, 0], [1, 2, 5, 0, 0, 0, 0], [3, 4, 6, 0, 0, 0, 0]]\n",
      "[[4, 0, 8, 0, 8, 0, 8], [5, 3, 1, 5, 9, 5, 6], [2, 1, 2, 8, 11, 8, 10], [1, 2, 5, 0, 0, 0, 0], [3, 4, 6, 0, 0, 0, 0]]\n",
      "[[4, 0, 8, 0, 8, 0, 8], [5, 3, 1, 5, 9, 5, 6], [2, 1, 2, 8, 11, 8, 10], [1, 2, 5, 9, 16, 9, 14], [3, 4, 6, 0, 0, 0, 0]]\n"
     ]
    }
   ],
   "source": [
    "avg_rt = 0\n",
    "avg_ct = 0\n",
    "avg_wt = 0\n",
    "avg_tt = 0\n",
    "\n",
    "current_time = 0\n",
    "for i in range(n):\n",
    "    sorted_arr = bubbleSort(arr, i)\n",
    "    print(sorted_arr)\n",
    "    at = arr[i][1]\n",
    "    bt = arr[i][2]\n",
    "    if current_time < at:\n",
    "        current_time = at\n",
    "    starting_time = current_time\n",
    "    ct = starting_time + bt\n",
    "    \n",
    "    arr[i][3] = starting_time - at  #RT\n",
    "    arr[i][4] = ct  #CT\n",
    "    arr[i][6] = ct - at #TT\n",
    "    arr[i][5] = arr[i][6] - bt #WT\n",
    "    \n",
    "    #avg\n",
    "    avg_rt = avg_rt + arr[i][3]\n",
    "    avg_ct = avg_ct + arr[i][4]\n",
    "    avg_wt = avg_wt + arr[i][5]\n",
    "    avg_tt = avg_tt + arr[i][6]\n",
    "    \n",
    "    #update current time\n",
    "    current_time = ct\n",
    "    "
   ]
  },
  {
   "cell_type": "code",
   "execution_count": 51,
   "id": "3acb86c6",
   "metadata": {},
   "outputs": [
    {
     "name": "stdout",
     "output_type": "stream",
     "text": [
      "[[4, 0, 8, 0, 8, 0, 8], [5, 3, 1, 5, 9, 5, 6], [2, 1, 2, 8, 11, 8, 10], [1, 2, 5, 9, 16, 9, 14], [3, 4, 6, 12, 22, 12, 18]]\n"
     ]
    }
   ],
   "source": [
    "print(arr)"
   ]
  },
  {
   "cell_type": "code",
   "execution_count": 41,
   "id": "3745f2af",
   "metadata": {},
   "outputs": [
    {
     "name": "stdout",
     "output_type": "stream",
     "text": [
      "AVG_RT: 6.6\n",
      "AVG_CT: 13.0\n",
      "AVG_WT: 6.6\n",
      "AVG_TT: 11.0\n",
      "\n"
     ]
    }
   ],
   "source": [
    "avg_rt = avg_rt / n\n",
    "avg_ct = avg_ct / n\n",
    "avg_wt = avg_wt / n\n",
    "avg_tt = avg_tt / n\n",
    "\n",
    "print(\"AVG_RT: \" +str(avg_rt) + \"\\n\" + \"AVG_CT: \" +str(avg_ct) + \"\\n\" +\"AVG_WT: \" +str(avg_wt) + \"\\n\" +\"AVG_TT: \" +str(avg_tt) + \"\\n\" )"
   ]
  },
  {
   "cell_type": "code",
   "execution_count": 35,
   "id": "d5da2383",
   "metadata": {},
   "outputs": [],
   "source": [
    "arr = sorted(arr, key=lambda x:x[0])"
   ]
  },
  {
   "cell_type": "code",
   "execution_count": 36,
   "id": "7b7cdcf1",
   "metadata": {},
   "outputs": [
    {
     "name": "stdout",
     "output_type": "stream",
     "text": [
      "[[1, 2, 5, 9, 16, 9, 14], [2, 1, 2, 8, 11, 8, 10], [3, 4, 6, 12, 22, 12, 18], [4, 0, 8, 0, 8, 0, 8], [5, 3, 1, 5, 9, 5, 6]]\n"
     ]
    }
   ],
   "source": [
    "print(arr)"
   ]
  },
  {
   "cell_type": "code",
   "execution_count": null,
   "id": "dd699801",
   "metadata": {},
   "outputs": [],
   "source": []
  }
 ],
 "metadata": {
  "kernelspec": {
   "display_name": "Python 3 (ipykernel)",
   "language": "python",
   "name": "python3"
  },
  "language_info": {
   "codemirror_mode": {
    "name": "ipython",
    "version": 3
   },
   "file_extension": ".py",
   "mimetype": "text/x-python",
   "name": "python",
   "nbconvert_exporter": "python",
   "pygments_lexer": "ipython3",
   "version": "3.9.13"
  }
 },
 "nbformat": 4,
 "nbformat_minor": 5
}
