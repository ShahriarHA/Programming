{
 "cells": [
  {
   "cell_type": "code",
   "execution_count": 43,
   "id": "ad0657fd",
   "metadata": {},
   "outputs": [
    {
     "name": "stdout",
     "output_type": "stream",
     "text": [
      "enter tracks: 200\n"
     ]
    }
   ],
   "source": [
    "tracks = int(input(\"enter tracks: \"))"
   ]
  },
  {
   "cell_type": "code",
   "execution_count": 44,
   "id": "eaa5d9bc",
   "metadata": {},
   "outputs": [
    {
     "name": "stdout",
     "output_type": "stream",
     "text": [
      "88,150,44,172,30,15,195\n"
     ]
    }
   ],
   "source": [
    "quere_track_no = input()"
   ]
  },
  {
   "cell_type": "code",
   "execution_count": 45,
   "id": "43cef3f0",
   "metadata": {},
   "outputs": [
    {
     "name": "stdout",
     "output_type": "stream",
     "text": [
      "['88', '150', '44', '172', '30', '15', '195']\n",
      "[88, 150, 44, 172, 30, 15, 195]\n"
     ]
    }
   ],
   "source": [
    "queue_track_list = quere_track_no.split(\",\")\n",
    "print(queue_track_list)\n",
    "queue_track_list = [int(i) for i in queue_track_list]\n",
    "print(queue_track_list)"
   ]
  },
  {
   "cell_type": "code",
   "execution_count": 46,
   "id": "62b9ead8",
   "metadata": {},
   "outputs": [
    {
     "name": "stdout",
     "output_type": "stream",
     "text": [
      "50\n"
     ]
    }
   ],
   "source": [
    "position_r_w_head = int(input())"
   ]
  },
  {
   "cell_type": "code",
   "execution_count": 47,
   "id": "f0e6f15c",
   "metadata": {},
   "outputs": [
    {
     "data": {
      "text/plain": [
       "[88, 150, 44, 172, 30, 15, 195]"
      ]
     },
     "execution_count": 47,
     "metadata": {},
     "output_type": "execute_result"
    }
   ],
   "source": [
    "sstf = []\n",
    "# queue_track_list.insert(0,position_r_w_head)\n",
    "queue_track_list"
   ]
  },
  {
   "cell_type": "code",
   "execution_count": 48,
   "id": "5ab05425",
   "metadata": {},
   "outputs": [
    {
     "name": "stdout",
     "output_type": "stream",
     "text": [
      "[38, 100, 6, 122, 20, 35, 145]\n"
     ]
    }
   ],
   "source": [
    "for i in range(len(queue_track_list)):\n",
    "    sstf.append(abs(position_r_w_head - queue_track_list[i])) \n",
    "print(sstf)"
   ]
  },
  {
   "cell_type": "code",
   "execution_count": 50,
   "id": "4cab4cc0",
   "metadata": {},
   "outputs": [
    {
     "name": "stdout",
     "output_type": "stream",
     "text": [
      "[6, 15]\n"
     ]
    }
   ],
   "source": [
    "sstf_list =[]\n",
    "min_value = sstf[0]\n",
    "for i in range(1,len(sstf)):\n",
    "    if sstf[i] < min_value:\n",
    "        sstf_list.append(sstf[i])\n",
    "print(sstf_list)"
   ]
  },
  {
   "cell_type": "code",
   "execution_count": null,
   "id": "6e7e7a30",
   "metadata": {},
   "outputs": [],
   "source": []
  }
 ],
 "metadata": {
  "kernelspec": {
   "display_name": "Python 3 (ipykernel)",
   "language": "python",
   "name": "python3"
  },
  "language_info": {
   "codemirror_mode": {
    "name": "ipython",
    "version": 3
   },
   "file_extension": ".py",
   "mimetype": "text/x-python",
   "name": "python",
   "nbconvert_exporter": "python",
   "pygments_lexer": "ipython3",
   "version": "3.9.13"
  }
 },
 "nbformat": 4,
 "nbformat_minor": 5
}
