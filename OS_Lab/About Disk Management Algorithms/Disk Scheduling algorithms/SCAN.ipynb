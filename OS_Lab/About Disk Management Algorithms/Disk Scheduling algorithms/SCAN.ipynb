{
 "cells": [
  {
   "cell_type": "code",
   "execution_count": 1,
   "id": "3cee4cf0",
   "metadata": {},
   "outputs": [
    {
     "name": "stdout",
     "output_type": "stream",
     "text": [
      "total tracks for a disk: 200\n",
      "200\n"
     ]
    }
   ],
   "source": [
    "total_tracks = int(input(\"total tracks for a disk: \"))\n",
    "print(total_tracks)\n"
   ]
  },
  {
   "cell_type": "code",
   "execution_count": 2,
   "id": "859a6c29",
   "metadata": {},
   "outputs": [
    {
     "name": "stdout",
     "output_type": "stream",
     "text": [
      "current position of r/w head: 50\n",
      "50\n"
     ]
    }
   ],
   "source": [
    "r_W_head = int(input(\"current position of r/w head: \"))\n",
    "print(r_W_head)"
   ]
  },
  {
   "cell_type": "code",
   "execution_count": 3,
   "id": "7c826f18",
   "metadata": {},
   "outputs": [
    {
     "name": "stdout",
     "output_type": "stream",
     "text": [
      "request queue contains track no[separate them by space]: 82 170 43 140 24 16 190\n",
      "['82', '170', '43', '140', '24', '16', '190']\n"
     ]
    }
   ],
   "source": [
    "request_queue = input(\"request queue contains track no[separate them by space]: \")\n",
    "request_queue_list = request_queue.split(' ')\n",
    "print(request_queue_list)\n",
    "# test case 1: 82 170 43 140 24 16 190\n",
    "# test case 2: 88 150 44 172 30 15 195 (sir)"
   ]
  },
  {
   "cell_type": "code",
   "execution_count": 4,
   "id": "b660d52e",
   "metadata": {},
   "outputs": [
    {
     "name": "stdout",
     "output_type": "stream",
     "text": [
      "[82, 170, 43, 140, 24, 16, 190]\n"
     ]
    }
   ],
   "source": [
    "request_queue_list = [int(i) for i in request_queue_list]\n",
    "print(request_queue_list)\n"
   ]
  },
  {
   "cell_type": "code",
   "execution_count": 5,
   "id": "d42b5556",
   "metadata": {},
   "outputs": [
    {
     "name": "stdout",
     "output_type": "stream",
     "text": [
      "6\n"
     ]
    }
   ],
   "source": [
    "scan_queue = []\n",
    "scan_queue.append(r_W_head)\n",
    "max_vlue_list = max(request_queue_list)\n",
    "max_index_vlue = request_queue_list.index(max_vlue_list)\n",
    "print(max_index_vlue)"
   ]
  },
  {
   "cell_type": "code",
   "execution_count": 6,
   "id": "02734161",
   "metadata": {},
   "outputs": [],
   "source": [
    "def larger_value(current_r_w_head):\n",
    "    seek_time_list = []\n",
    "    seek_time = 0\n",
    "    flag1 = False\n",
    "    \n",
    "    for i in request_queue_list:\n",
    "        if current_r_w_head < i:\n",
    "            seek_time = abs(current_r_w_head-i)\n",
    "            seek_time_list.append(seek_time)\n",
    "    \n",
    "    if seek_time == 0:\n",
    "        for j in request_queue_list:\n",
    "            if current_r_w_head > j:\n",
    "                seek_time = abs(current_r_w_head-j)\n",
    "                seek_time_list.append(seek_time)\n",
    "        min_value = min(seek_time_list)\n",
    "        min_index = seek_time_list.index(min_value)\n",
    "        value1 = request_queue_list[min_index]\n",
    "#         value1 = min_value+current_r_w_head\n",
    "        return value1\n",
    "    else:\n",
    "        min_value = min(seek_time_list)\n",
    "        value1 = min_value+current_r_w_head\n",
    "        \n",
    "        return value1"
   ]
  },
  {
   "cell_type": "code",
   "execution_count": 7,
   "id": "366ede08",
   "metadata": {},
   "outputs": [
    {
     "name": "stdout",
     "output_type": "stream",
     "text": [
      "scan queue:  50\n",
      "min seek time value:  82\n",
      "index value :  0\n",
      "final queue:  [50, 82]\n",
      "[170, 43, 140, 24, 16, 190]\n",
      "scan queue:  82\n",
      "min seek time value:  140\n",
      "index value :  2\n",
      "final queue:  [50, 82, 140]\n",
      "[170, 43, 24, 16, 190]\n",
      "scan queue:  140\n",
      "min seek time value:  170\n",
      "index value :  0\n",
      "final queue:  [50, 82, 140, 170]\n",
      "[43, 24, 16, 190]\n",
      "scan queue:  170\n",
      "min seek time value:  190\n",
      "index value :  3\n",
      "final queue:  [50, 82, 140, 170, 190]\n",
      "[43, 24, 16]\n",
      "scan queue:  190\n",
      "min seek time value:  43\n",
      "index value :  0\n",
      "final queue:  [50, 82, 140, 170, 190, 43]\n",
      "[24, 16]\n",
      "scan queue:  43\n",
      "min seek time value:  24\n",
      "index value :  0\n",
      "final queue:  [50, 82, 140, 170, 190, 43, 24]\n",
      "[16]\n",
      "scan queue:  24\n",
      "min seek time value:  16\n",
      "index value :  0\n",
      "final queue:  [50, 82, 140, 170, 190, 43, 24, 16]\n",
      "[]\n",
      "Final scan queue:  [50, 82, 140, 170, 190, 43, 24, 16]\n",
      "execution complete!\n"
     ]
    }
   ],
   "source": [
    "length = len(request_queue_list)\n",
    "if len(request_queue_list) == 0:\n",
    "    print(\"There is no request which contains track number.!\")\n",
    "else:\n",
    "    i = 0\n",
    "    while i < length:\n",
    "#         print(i)\n",
    "        print(\"scan queue: \",scan_queue[i])\n",
    "        if len(scan_queue) == 0:\n",
    "            break\n",
    "        else:\n",
    "            result = larger_value(scan_queue[i])\n",
    "            print(\"min seek time value: \",result)\n",
    "            index_value = request_queue_list.index(result)\n",
    "            print(\"index value : \",index_value)\n",
    "            scan_queue.append(result)\n",
    "#             print(\"min seek time: \",request_queue_list[result])\n",
    "#             scan_queue.append(request_queue_list[index_value])\n",
    "            print(\"final queue: \",scan_queue)\n",
    "            request_queue_list.pop(index_value)\n",
    "            print(request_queue_list)\n",
    "        i+=1\n",
    "\n",
    "print(\"Final scan queue: \",scan_queue)\n",
    "# scan_queue.insert(max_index_vlue,total_tracks-1)\n",
    "print(\"execution complete!\")"
   ]
  },
  {
   "cell_type": "code",
   "execution_count": 8,
   "id": "9084ea6e",
   "metadata": {},
   "outputs": [
    {
     "name": "stdout",
     "output_type": "stream",
     "text": [
      "4\n"
     ]
    }
   ],
   "source": [
    "max_vlue_list = max(scan_queue)\n",
    "max_index_vlue = scan_queue.index(max_vlue_list)\n",
    "print(max_index_vlue)"
   ]
  },
  {
   "cell_type": "code",
   "execution_count": 9,
   "id": "14a0911d",
   "metadata": {},
   "outputs": [
    {
     "data": {
      "text/plain": [
       "[50, 82, 140, 170, 190, 199, 43, 24, 16]"
      ]
     },
     "execution_count": 9,
     "metadata": {},
     "output_type": "execute_result"
    }
   ],
   "source": [
    "scan_queue.insert(max_index_vlue+1,total_tracks-1)\n",
    "scan_queue"
   ]
  },
  {
   "cell_type": "code",
   "execution_count": 10,
   "id": "fed1504d",
   "metadata": {},
   "outputs": [
    {
     "name": "stdout",
     "output_type": "stream",
     "text": [
      "total number of track:  332\n"
     ]
    }
   ],
   "source": [
    "head = scan_queue[0]\n",
    "total_movement = 0\n",
    "k = 1\n",
    "while k < len(scan_queue):\n",
    "    seek_t = abs(head - scan_queue[k])\n",
    "    total_movement+=seek_t\n",
    "    head = scan_queue[k]\n",
    "    k+=1\n",
    "print(\"total number of track: \",total_movement)"
   ]
  },
  {
   "cell_type": "code",
   "execution_count": 11,
   "id": "27cea295",
   "metadata": {},
   "outputs": [],
   "source": [
    "import matplotlib.pyplot as plt"
   ]
  },
  {
   "cell_type": "code",
   "execution_count": 12,
   "id": "c3ef49ea",
   "metadata": {},
   "outputs": [
    {
     "data": {
      "text/plain": [
       "[<matplotlib.lines.Line2D at 0x1bb54b52ee0>]"
      ]
     },
     "execution_count": 12,
     "metadata": {},
     "output_type": "execute_result"
    },
    {
     "data": {
      "image/png": "[encoded data removed]",
      "text/plain": [
       "<Figure size 640x480 with 1 Axes>"
      ]
     },
     "metadata": {},
     "output_type": "display_data"
    }
   ],
   "source": [
    "plt.plot(scan_queue,marker = 'o')"
   ]
  },
  {
   "cell_type": "code",
   "execution_count": null,
   "id": "01b996a5",
   "metadata": {},
   "outputs": [],
   "source": []
  }
 ],
 "metadata": {
  "kernelspec": {
   "display_name": "Python 3 (ipykernel)",
   "language": "python",
   "name": "python3"
  },
  "language_info": {
   "codemirror_mode": {
    "name": "ipython",
    "version": 3
   },
   "file_extension": ".py",
   "mimetype": "text/x-python",
   "name": "python",
   "nbconvert_exporter": "python",
   "pygments_lexer": "ipython3",
   "version": "3.9.13"
  }
 },
 "nbformat": 4,
 "nbformat_minor": 5
}
