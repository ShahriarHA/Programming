{
 "cells": [
  {
   "cell_type": "code",
   "execution_count": 1,
   "id": "056f5543",
   "metadata": {},
   "outputs": [
    {
     "name": "stdout",
     "output_type": "stream",
     "text": [
      "total tracks for a disk: 200\n",
      "200\n"
     ]
    }
   ],
   "source": [
    "total_tracks = int(input(\"total tracks for a disk: \"))\n",
    "print(total_tracks)\n"
   ]
  },
  {
   "cell_type": "code",
   "execution_count": 2,
   "id": "4f8df84e",
   "metadata": {},
   "outputs": [
    {
     "name": "stdout",
     "output_type": "stream",
     "text": [
      "current position of r/w head: 50\n",
      "50\n"
     ]
    }
   ],
   "source": [
    "r_W_head = int(input(\"current position of r/w head: \"))\n",
    "print(r_W_head)"
   ]
  },
  {
   "cell_type": "code",
   "execution_count": 3,
   "id": "6f3c39a7",
   "metadata": {},
   "outputs": [
    {
     "name": "stdout",
     "output_type": "stream",
     "text": [
      "request queue contains track no[separate them by space]: 82 170 43 140 24 16 190\n",
      "['82', '170', '43', '140', '24', '16', '190']\n"
     ]
    }
   ],
   "source": [
    "request_queue = input(\"request queue contains track no[separate them by space]: \")\n",
    "request_queue_list = request_queue.split(' ')\n",
    "print(request_queue_list)\n",
    "# test case 1: 82 170 43 140 24 16 190\n",
    "# test case 2: 88 150 44 172 30 15 195 (sir)"
   ]
  },
  {
   "cell_type": "code",
   "execution_count": 4,
   "id": "bb97631c",
   "metadata": {},
   "outputs": [
    {
     "name": "stdout",
     "output_type": "stream",
     "text": [
      "[82, 170, 43, 140, 24, 16, 190]\n"
     ]
    }
   ],
   "source": [
    "request_queue_list = [int(i) for i in request_queue_list]\n",
    "print(request_queue_list)\n"
   ]
  },
  {
   "cell_type": "code",
   "execution_count": 5,
   "id": "0fbe1235",
   "metadata": {},
   "outputs": [],
   "source": [
    "c_look_queue = []\n",
    "c_look_queue.append(r_W_head)\n"
   ]
  },
  {
   "cell_type": "code",
   "execution_count": 6,
   "id": "7b4c8f55",
   "metadata": {},
   "outputs": [],
   "source": [
    "def larger_value(current_r_w_head):\n",
    "    seek_time_list = []\n",
    "    seek_time = 0\n",
    "    flag1 = False\n",
    "    \n",
    "    for i in request_queue_list:\n",
    "        if current_r_w_head < i:\n",
    "            seek_time = abs(current_r_w_head-i)\n",
    "            seek_time_list.append(seek_time)\n",
    "    \n",
    "    if seek_time == 0:\n",
    "        for j in request_queue_list:\n",
    "            if current_r_w_head > j:\n",
    "                seek_time = abs(current_r_w_head-j)\n",
    "                seek_time_list.append(seek_time)\n",
    "        max_value = max(seek_time_list)\n",
    "        max_index = seek_time_list.index(max_value)\n",
    "        value1 = request_queue_list[max_index]\n",
    "#         value1 = min_value+current_r_w_head\n",
    "        return value1\n",
    "    else:\n",
    "        min_value = min(seek_time_list)\n",
    "        value1 = min_value+current_r_w_head\n",
    "        \n",
    "        return value1"
   ]
  },
  {
   "cell_type": "code",
   "execution_count": 7,
   "id": "75612dd9",
   "metadata": {},
   "outputs": [
    {
     "name": "stdout",
     "output_type": "stream",
     "text": [
      "c-look queue:  50\n",
      "min seek time value:  82\n",
      "index value :  0\n",
      "final queue:  [50, 82]\n",
      "[170, 43, 140, 24, 16, 190]\n",
      "c-look queue:  82\n",
      "min seek time value:  140\n",
      "index value :  2\n",
      "final queue:  [50, 82, 140]\n",
      "[170, 43, 24, 16, 190]\n",
      "c-look queue:  140\n",
      "min seek time value:  170\n",
      "index value :  0\n",
      "final queue:  [50, 82, 140, 170]\n",
      "[43, 24, 16, 190]\n",
      "c-look queue:  170\n",
      "min seek time value:  190\n",
      "index value :  3\n",
      "final queue:  [50, 82, 140, 170, 190]\n",
      "[43, 24, 16]\n",
      "c-look queue:  190\n",
      "min seek time value:  16\n",
      "index value :  2\n",
      "final queue:  [50, 82, 140, 170, 190, 16]\n",
      "[43, 24]\n",
      "c-look queue:  16\n",
      "min seek time value:  24\n",
      "index value :  1\n",
      "final queue:  [50, 82, 140, 170, 190, 16, 24]\n",
      "[43]\n",
      "c-look queue:  24\n",
      "min seek time value:  43\n",
      "index value :  0\n",
      "final queue:  [50, 82, 140, 170, 190, 16, 24, 43]\n",
      "[]\n",
      "Final scan queue:  [50, 82, 140, 170, 190, 16, 24, 43]\n",
      "execution complete!\n"
     ]
    }
   ],
   "source": [
    "length = len(request_queue_list)\n",
    "if len(request_queue_list) == 0:\n",
    "    print(\"There is no request which contains track number.!\")\n",
    "else:\n",
    "    i = 0\n",
    "    while i < length:\n",
    "#         print(i)\n",
    "        print(\"c-look queue: \",c_look_queue[i])\n",
    "        if len(c_look_queue) == 0:\n",
    "            break\n",
    "        else:\n",
    "            result = larger_value(c_look_queue[i])\n",
    "            print(\"min seek time value: \",result)\n",
    "            index_value = request_queue_list.index(result)\n",
    "            print(\"index value : \",index_value)\n",
    "            c_look_queue.append(result)\n",
    "            print(\"final queue: \",c_look_queue)\n",
    "            request_queue_list.pop(index_value)\n",
    "            print(request_queue_list)\n",
    "        i+=1\n",
    "\n",
    "print(\"Final scan queue: \",c_look_queue)\n",
    "print(\"execution complete!\")"
   ]
  },
  {
   "cell_type": "code",
   "execution_count": 9,
   "id": "6d284a3c",
   "metadata": {},
   "outputs": [
    {
     "name": "stdout",
     "output_type": "stream",
     "text": [
      "total number of track:  341\n"
     ]
    }
   ],
   "source": [
    "head = c_look_queue[0]\n",
    "total_movement = 0\n",
    "k = 1\n",
    "while k < len(c_look_queue):\n",
    "    seek_t = abs(head - c_look_queue[k])\n",
    "    total_movement+=seek_t\n",
    "    head = c_look_queue[k]\n",
    "    k+=1\n",
    "print(\"total number of track: \",total_movement)"
   ]
  },
  {
   "cell_type": "code",
   "execution_count": 10,
   "id": "e734f516",
   "metadata": {},
   "outputs": [],
   "source": [
    "import matplotlib.pyplot as plt"
   ]
  },
  {
   "cell_type": "code",
   "execution_count": 11,
   "id": "ff71608c",
   "metadata": {},
   "outputs": [
    {
     "data": {
      "text/plain": [
       "[<matplotlib.lines.Line2D at 0x24cd6f10d30>]"
      ]
     },
     "execution_count": 11,
     "metadata": {},
     "output_type": "execute_result"
    },
    {
     "data": {
      "image/png": "[encoded data removed]",
      "text/plain": [
       "<Figure size 640x480 with 1 Axes>"
      ]
     },
     "metadata": {},
     "output_type": "display_data"
    }
   ],
   "source": [
    "plt.plot(c_look_queue,marker = 'o')"
   ]
  },
  {
   "cell_type": "code",
   "execution_count": null,
   "id": "ab65e310",
   "metadata": {},
   "outputs": [],
   "source": []
  }
 ],
 "metadata": {
  "kernelspec": {
   "display_name": "Python 3 (ipykernel)",
   "language": "python",
   "name": "python3"
  },
  "language_info": {
   "codemirror_mode": {
    "name": "ipython",
    "version": 3
   },
   "file_extension": ".py",
   "mimetype": "text/x-python",
   "name": "python",
   "nbconvert_exporter": "python",
   "pygments_lexer": "ipython3",
   "version": "3.9.13"
  }
 },
 "nbformat": 4,
 "nbformat_minor": 5
}
