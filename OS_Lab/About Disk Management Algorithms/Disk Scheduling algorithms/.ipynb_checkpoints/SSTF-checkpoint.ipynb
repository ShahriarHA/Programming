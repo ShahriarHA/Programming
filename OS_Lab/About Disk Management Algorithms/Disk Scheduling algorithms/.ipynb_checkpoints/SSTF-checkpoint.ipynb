{
 "cells": [
  {
   "cell_type": "code",
   "execution_count": 1,
   "id": "6fdc468c",
   "metadata": {},
   "outputs": [
    {
     "name": "stdout",
     "output_type": "stream",
     "text": [
      "total tracks for a disk: 200\n",
      "200\n"
     ]
    }
   ],
   "source": [
    "total_tracks = int(input(\"total tracks for a disk: \"))\n",
    "print(total_tracks)\n"
   ]
  },
  {
   "cell_type": "code",
   "execution_count": 2,
   "id": "09991cbd",
   "metadata": {},
   "outputs": [
    {
     "name": "stdout",
     "output_type": "stream",
     "text": [
      "current position of r/w head: 50\n",
      "50\n"
     ]
    }
   ],
   "source": [
    "r_W_head = int(input(\"current position of r/w head: \"))\n",
    "print(r_W_head)"
   ]
  },
  {
   "cell_type": "code",
   "execution_count": 69,
   "id": "2a54a272",
   "metadata": {},
   "outputs": [
    {
     "name": "stdout",
     "output_type": "stream",
     "text": [
      "request queue contains track no[separate them by space]: 82 170 43 140 24 16 190\n",
      "['82', '170', '43', '140', '24', '16', '190']\n"
     ]
    }
   ],
   "source": [
    "request_queue = input(\"request queue contains track no[separate them by space]: \")\n",
    "request_queue_list = request_queue.split(' ')\n",
    "print(request_queue_list)\n",
    "# test case 1: 82 170 43 140 24 16 190\n",
    "# test case 2: 88 150 44 172 30 15 195"
   ]
  },
  {
   "cell_type": "code",
   "execution_count": 70,
   "id": "0fd37707",
   "metadata": {},
   "outputs": [
    {
     "name": "stdout",
     "output_type": "stream",
     "text": [
      "[82, 170, 43, 140, 24, 16, 190]\n"
     ]
    }
   ],
   "source": [
    "request_queue_list = [int(i) for i in request_queue_list]\n",
    "print(request_queue_list)\n"
   ]
  },
  {
   "cell_type": "code",
   "execution_count": 71,
   "id": "def00a97",
   "metadata": {},
   "outputs": [],
   "source": [
    "sstf_queue = []\n",
    "sstf_queue.append(r_W_head)\n"
   ]
  },
  {
   "cell_type": "code",
   "execution_count": 72,
   "id": "610e93a4",
   "metadata": {},
   "outputs": [],
   "source": [
    "def check_shortest_seek_time(current_r_W_head):\n",
    "    shortest_seek_time_list = []\n",
    "    seek_time = 0\n",
    "    for i in request_queue_list:\n",
    "        if current_r_W_head != i:\n",
    "            seek_time = abs(i-current_r_W_head)\n",
    "            shortest_seek_time_list.append(seek_time)\n",
    "    min_vlaue = min(shortest_seek_time_list)\n",
    "    min_index = shortest_seek_time_list.index(min_vlaue)\n",
    "    \n",
    "    return min_index\n",
    "    "
   ]
  },
  {
   "cell_type": "code",
   "execution_count": 73,
   "id": "f1178a07",
   "metadata": {},
   "outputs": [
    {
     "name": "stdout",
     "output_type": "stream",
     "text": [
      "0\n",
      "sstf queue:  50\n",
      "index 2\n",
      "min seek time:  43\n",
      "final queue:  [50, 43]\n",
      "[82, 170, 140, 24, 16, 190]\n",
      "1\n",
      "sstf queue:  43\n",
      "index 3\n",
      "min seek time:  24\n",
      "final queue:  [50, 43, 24]\n",
      "[82, 170, 140, 16, 190]\n",
      "2\n",
      "sstf queue:  24\n",
      "index 3\n",
      "min seek time:  16\n",
      "final queue:  [50, 43, 24, 16]\n",
      "[82, 170, 140, 190]\n",
      "3\n",
      "sstf queue:  16\n",
      "index 0\n",
      "min seek time:  82\n",
      "final queue:  [50, 43, 24, 16, 82]\n",
      "[170, 140, 190]\n",
      "4\n",
      "sstf queue:  82\n",
      "index 1\n",
      "min seek time:  140\n",
      "final queue:  [50, 43, 24, 16, 82, 140]\n",
      "[170, 190]\n",
      "5\n",
      "sstf queue:  140\n",
      "index 0\n",
      "min seek time:  170\n",
      "final queue:  [50, 43, 24, 16, 82, 140, 170]\n",
      "[190]\n",
      "6\n",
      "sstf queue:  170\n",
      "index 0\n",
      "min seek time:  190\n",
      "final queue:  [50, 43, 24, 16, 82, 140, 170, 190]\n",
      "[]\n",
      "[50, 43, 24, 16, 82, 140, 170, 190]\n",
      "execution complete!\n"
     ]
    }
   ],
   "source": [
    "length = len(request_queue_list)\n",
    "if len(request_queue_list) == 0:\n",
    "    print(\"There is no request which contains track number.!\")\n",
    "else:\n",
    "    #current_r_W_head = r_W_head\n",
    "    total_no_track_movement = 0\n",
    "    i = 0\n",
    "    while i < length:\n",
    "        print(i)\n",
    "        print(\"sstf queue: \",sstf_queue[i])\n",
    "        if len(sstf_queue) == 0:\n",
    "            break\n",
    "        else:\n",
    "            result = check_shortest_seek_time(sstf_queue[i])\n",
    "            print(\"index\",result)\n",
    "            print(\"min seek time: \",request_queue_list[result])\n",
    "            sstf_queue.append(request_queue_list[result])\n",
    "            print(\"final queue: \",sstf_queue)\n",
    "            request_queue_list.pop(result)\n",
    "            print(request_queue_list)\n",
    "        i+=1\n",
    "\n",
    "print(sstf_queue)\n",
    "print(\"execution complete!\")"
   ]
  },
  {
   "cell_type": "code",
   "execution_count": 74,
   "id": "e02cdb71",
   "metadata": {},
   "outputs": [
    {
     "name": "stdout",
     "output_type": "stream",
     "text": [
      "50\n",
      "7\n",
      "43\n",
      "19\n",
      "24\n",
      "8\n",
      "16\n",
      "66\n",
      "82\n",
      "58\n",
      "140\n",
      "30\n",
      "170\n",
      "20\n",
      "total seek time:  208\n"
     ]
    }
   ],
   "source": [
    "j=1\n",
    "current_r_W_head=sstf_queue[0]\n",
    "while j < len(sstf_queue):\n",
    "    #current_r_W_head = sstf_queue[0]\n",
    "    print(current_r_W_head)\n",
    "    #print(sstf_queue[j]\n",
    "    \n",
    "    seek_time = abs(current_r_W_head - sstf_queue[j])\n",
    "    print(seek_time)\n",
    "    total_no_track_movement+= seek_time\n",
    "    current_r_W_head = sstf_queue[j]\n",
    "    j+=1\n",
    "    \n",
    "print(\"total seek time: \",total_no_track_movement)"
   ]
  },
  {
   "cell_type": "code",
   "execution_count": 75,
   "id": "e04c5371",
   "metadata": {},
   "outputs": [],
   "source": [
    "import matplotlib.pyplot as plt"
   ]
  },
  {
   "cell_type": "code",
   "execution_count": 76,
   "id": "ed66680c",
   "metadata": {},
   "outputs": [
    {
     "data": {
      "text/plain": [
       "[<matplotlib.lines.Line2D at 0x1fd789c5910>]"
      ]
     },
     "execution_count": 76,
     "metadata": {},
     "output_type": "execute_result"
    },
    {
     "data": {
      "image/png": "[encoded data removed]",
      "text/plain": [
       "<Figure size 640x480 with 1 Axes>"
      ]
     },
     "metadata": {},
     "output_type": "display_data"
    }
   ],
   "source": [
    "plt.plot(sstf_queue,marker = 'o')"
   ]
  },
  {
   "cell_type": "code",
   "execution_count": null,
   "id": "909ebc69",
   "metadata": {},
   "outputs": [],
   "source": []
  }
 ],
 "metadata": {
  "kernelspec": {
   "display_name": "Python 3 (ipykernel)",
   "language": "python",
   "name": "python3"
  },
  "language_info": {
   "codemirror_mode": {
    "name": "ipython",
    "version": 3
   },
   "file_extension": ".py",
   "mimetype": "text/x-python",
   "name": "python",
   "nbconvert_exporter": "python",
   "pygments_lexer": "ipython3",
   "version": "3.9.13"
  }
 },
 "nbformat": 4,
 "nbformat_minor": 5
}
