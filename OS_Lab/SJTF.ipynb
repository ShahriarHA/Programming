{
 "cells": [
  {
   "cell_type": "code",
   "execution_count": 10,
   "id": "1104fafa",
   "metadata": {},
   "outputs": [
    {
     "name": "stdout",
     "output_type": "stream",
     "text": [
      "Nb of process: 5\n"
     ]
    }
   ],
   "source": [
    "n = int(input(\"Nb of process: \"))"
   ]
  },
  {
   "cell_type": "code",
   "execution_count": 11,
   "id": "be086ca3",
   "metadata": {},
   "outputs": [],
   "source": [
    "arr = [[0 for i in range(7)] for j in range(n)]"
   ]
  },
  {
   "cell_type": "code",
   "execution_count": 12,
   "id": "a8784b11",
   "metadata": {},
   "outputs": [
    {
     "name": "stdout",
     "output_type": "stream",
     "text": [
      "[[0, 0, 0, 0, 0, 0, 0], [0, 0, 0, 0, 0, 0, 0], [0, 0, 0, 0, 0, 0, 0], [0, 0, 0, 0, 0, 0, 0], [0, 0, 0, 0, 0, 0, 0]]\n"
     ]
    }
   ],
   "source": [
    "print(arr)"
   ]
  },
  {
   "cell_type": "code",
   "execution_count": 13,
   "id": "ea646aa5",
   "metadata": {},
   "outputs": [
    {
     "name": "stdout",
     "output_type": "stream",
     "text": [
      "1 2 5\n",
      "2 1 2\n",
      "3 4 6\n",
      "4 0 8\n",
      "5 3 1\n"
     ]
    }
   ],
   "source": [
    "for i in range(n):\n",
    "    pid, at, bt = input().split()\n",
    "    arr[i][0] = int(pid)\n",
    "    arr[i][1] = int(at)\n",
    "    arr[i][2] = int(bt)"
   ]
  },
  {
   "cell_type": "code",
   "execution_count": 14,
   "id": "87147429",
   "metadata": {},
   "outputs": [
    {
     "name": "stdout",
     "output_type": "stream",
     "text": [
      "[[1, 2, 5, 0, 0, 0, 0], [2, 1, 2, 0, 0, 0, 0], [3, 4, 6, 0, 0, 0, 0], [4, 0, 8, 0, 0, 0, 0], [5, 3, 1, 0, 0, 0, 0]]\n"
     ]
    }
   ],
   "source": [
    "print(arr)"
   ]
  },
  {
   "cell_type": "code",
   "execution_count": 15,
   "id": "40f3fce4",
   "metadata": {},
   "outputs": [
    {
     "name": "stdout",
     "output_type": "stream",
     "text": [
      "[[4, 0, 8, 0, 0, 0, 0], [2, 1, 2, 0, 0, 0, 0], [1, 2, 5, 0, 0, 0, 0], [5, 3, 1, 0, 0, 0, 0], [3, 4, 6, 0, 0, 0, 0]]\n"
     ]
    }
   ],
   "source": [
    "arr = sorted(arr,key=lambda x:x[1])\n",
    "print(arr)"
   ]
  },
  {
   "cell_type": "code",
   "execution_count": 16,
   "id": "ce059472",
   "metadata": {},
   "outputs": [
    {
     "name": "stdout",
     "output_type": "stream",
     "text": [
      "sort [5, 3, 1, 0, 0, 0, 0]   [1, 2, 5, 0, 0, 0, 0]\n",
      "sort [5, 3, 1, 0, 0, 0, 0]   [2, 1, 2, 0, 0, 0, 0]\n"
     ]
    }
   ],
   "source": [
    "current_time = 0\n",
    "for i in range(n):\n",
    "    k = i\n",
    "    for i in range(k, len(arr)):\n",
    "        for j in range(k, len(arr) + k - i - 1):\n",
    "            if arr[j][2] > arr[j+1][2] and arr[j][1] <= current_time and arr[j+1][1] <= current_time:\n",
    "                arr[j], arr[j+1] = arr[j+1], arr[j]\n",
    "                print(\"sort\",arr[j],\" \",arr[j+1])\n",
    "    at = arr[i][1]\n",
    "    bt = arr[i][2]\n",
    "    if current_time < at:\n",
    "        current_time = at\n",
    "    starting_time = current_time\n",
    "    ct = starting_time + bt\n",
    "    \n",
    "    arr[i][3] = starting_time - at  #RT\n",
    "    arr[i][4] = ct  #CT\n",
    "    arr[i][6] = ct - at #TT\n",
    "    arr[i][5] = arr[i][6] - bt #WT\n",
    "    \n",
    "    #avg\n",
    "#     avg_rt = avg_rt + arr[i][3]\n",
    "#     avg_ct = avg_ct + arr[i][4]\n",
    "#     avg_wt = avg_wt + arr[i][5]\n",
    "#     avg_tt = avg_tt + arr[i][6]\n",
    "    \n",
    "    #update current time\n",
    "    current_time = ct"
   ]
  },
  {
   "cell_type": "code",
   "execution_count": 17,
   "id": "01a4d3f5",
   "metadata": {},
   "outputs": [
    {
     "name": "stdout",
     "output_type": "stream",
     "text": [
      "[[4, 0, 8, 0, 0, 0, 0], [5, 3, 1, 0, 0, 0, 0], [2, 1, 2, 0, 0, 0, 0], [1, 2, 5, 0, 0, 0, 0], [3, 4, 6, 24, 34, 24, 30]]\n"
     ]
    }
   ],
   "source": [
    "print(arr)"
   ]
  },
  {
   "cell_type": "code",
   "execution_count": null,
   "id": "c5bb769b",
   "metadata": {},
   "outputs": [],
   "source": []
  }
 ],
 "metadata": {
  "kernelspec": {
   "display_name": "Python 3 (ipykernel)",
   "language": "python",
   "name": "python3"
  },
  "language_info": {
   "codemirror_mode": {
    "name": "ipython",
    "version": 3
   },
   "file_extension": ".py",
   "mimetype": "text/x-python",
   "name": "python",
   "nbconvert_exporter": "python",
   "pygments_lexer": "ipython3",
   "version": "3.9.13"
  }
 },
 "nbformat": 4,
 "nbformat_minor": 5
}
