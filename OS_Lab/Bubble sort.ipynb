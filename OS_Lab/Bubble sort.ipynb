{
 "cells": [
  {
   "cell_type": "code",
   "execution_count": 1,
   "id": "7b744441",
   "metadata": {},
   "outputs": [
    {
     "name": "stdout",
     "output_type": "stream",
     "text": [
      "[2, 3, 4, 5, 8]\n"
     ]
    }
   ],
   "source": [
    "arr = [5,3,8,4,2]\n",
    "len(arr)\n",
    "for i in range(len(arr)):\n",
    "    for j in range(0, len(arr)-i-1):\n",
    "        if arr[j] > arr[j+1]:\n",
    "            arr[j], arr[j+1] = arr[j+1], arr[j]\n",
    "            \n",
    "print(arr)\n",
    "    "
   ]
  },
  {
   "cell_type": "code",
   "execution_count": 5,
   "id": "23c14365",
   "metadata": {},
   "outputs": [
    {
     "name": "stdout",
     "output_type": "stream",
     "text": [
      "[[10, 110, 40, 8, 12], [8, 3, 50, 6, 2], [100, 90, 80, 70, 60]]\n"
     ]
    }
   ],
   "source": [
    "# for 2d array\n",
    "arr = [[8,3,50,6,2],[10,110,40,8,12],[100,90,80,70,60]]\n",
    "for i in range(len(arr)):\n",
    "    for j in range(0,len(arr)-i-1):\n",
    "        if arr[j][2] > arr[j+1][2]:\n",
    "            arr[j], arr[j+1] = arr[j+1],arr[j]\n",
    "print(arr)"
   ]
  },
  {
   "cell_type": "code",
   "execution_count": 6,
   "id": "a4375a0f",
   "metadata": {},
   "outputs": [
    {
     "name": "stdout",
     "output_type": "stream",
     "text": [
      "3\n",
      "5\n"
     ]
    }
   ],
   "source": [
    "print(len(arr))\n",
    "print(len(arr[0]))"
   ]
  },
  {
   "cell_type": "code",
   "execution_count": 9,
   "id": "2f367f95",
   "metadata": {},
   "outputs": [
    {
     "name": "stdout",
     "output_type": "stream",
     "text": [
      "[[1, 2, 3, 3, 0, 0, 0, 0], [2, 5, 1, 1, 0, 0, 0, 0], [3, 6, 2, 2, 0, 0, 0, 0], [4, 8, 5, 5, 0, 0, 0, 0], [5, 0, 7, 7, 0, 0, 0, 0]]\n"
     ]
    }
   ],
   "source": [
    "arr = [[1, 2, 3, 3, 0, 0, 0, 0], [2, 5, 1, 1, 0, 0, 0, 0], [3, 6, 2, 2, 0, 0, 0, 0], [4, 8, 5, 5, 0, 0, 0, 0], [5, 0, 7, 7, 0, 0, 0, 0]]\n",
    "print(arr)"
   ]
  },
  {
   "cell_type": "code",
   "execution_count": 10,
   "id": "4793018b",
   "metadata": {},
   "outputs": [
    {
     "name": "stdout",
     "output_type": "stream",
     "text": [
      "[[5, 0, 7, 7, 0, 0, 0, 0], [1, 2, 3, 3, 0, 0, 0, 0], [2, 5, 1, 1, 0, 0, 0, 0], [3, 6, 2, 2, 0, 0, 0, 0], [4, 8, 5, 5, 0, 0, 0, 0]]\n"
     ]
    }
   ],
   "source": [
    "for i in range(len(arr)):\n",
    "    for j in range(0,len(arr)-i-1):\n",
    "        if arr[j][1] > arr[j+1][1]:\n",
    "            arr[j],arr[j+1] = arr[j+1],arr[j]\n",
    "print(arr)"
   ]
  },
  {
   "cell_type": "code",
   "execution_count": 1,
   "id": "4f3a0911",
   "metadata": {},
   "outputs": [
    {
     "name": "stdout",
     "output_type": "stream",
     "text": [
      "enter the process : 4\n"
     ]
    }
   ],
   "source": [
    "n = int(input(\"enter the process : \"))"
   ]
  },
  {
   "cell_type": "code",
   "execution_count": 2,
   "id": "2ec215e1",
   "metadata": {},
   "outputs": [],
   "source": [
    "arr = [[0 for j in range(7)]for i in range(n)]"
   ]
  },
  {
   "cell_type": "code",
   "execution_count": 3,
   "id": "6af306f9",
   "metadata": {},
   "outputs": [
    {
     "name": "stdout",
     "output_type": "stream",
     "text": [
      "[[0, 0, 0, 0, 0, 0, 0], [0, 0, 0, 0, 0, 0, 0], [0, 0, 0, 0, 0, 0, 0], [0, 0, 0, 0, 0, 0, 0]]\n"
     ]
    }
   ],
   "source": [
    "print(arr)"
   ]
  },
  {
   "cell_type": "code",
   "execution_count": 5,
   "id": "368ddb87",
   "metadata": {},
   "outputs": [
    {
     "name": "stdout",
     "output_type": "stream",
     "text": [
      "1 5 9\n",
      "2 3 4\n",
      "3 6 8\n",
      "4 5 8\n"
     ]
    }
   ],
   "source": [
    "for i in range(n):\n",
    "    pid,at,bt = input().split()\n",
    "    arr[i][0] = pid\n",
    "    arr[i][1] = at\n",
    "    arr[i][2] = bt\n",
    "    "
   ]
  },
  {
   "cell_type": "code",
   "execution_count": 6,
   "id": "11d821dc",
   "metadata": {},
   "outputs": [
    {
     "name": "stdout",
     "output_type": "stream",
     "text": [
      "[['1', '5', '9', 0, 0, 0, 0], ['2', '3', '4', 0, 0, 0, 0], ['3', '6', '8', 0, 0, 0, 0], ['4', '5', '8', 0, 0, 0, 0]]\n"
     ]
    }
   ],
   "source": [
    "print(arr)"
   ]
  },
  {
   "cell_type": "code",
   "execution_count": 7,
   "id": "43629132",
   "metadata": {},
   "outputs": [
    {
     "name": "stdout",
     "output_type": "stream",
     "text": [
      "[['2', '3', '4', 0, 0, 0, 0], ['1', '5', '9', 0, 0, 0, 0], ['4', '5', '8', 0, 0, 0, 0], ['3', '6', '8', 0, 0, 0, 0]]\n"
     ]
    }
   ],
   "source": [
    "arr = sorted(arr,key=lambda x:x[1])\n",
    "print(arr)"
   ]
  },
  {
   "cell_type": "code",
   "execution_count": null,
   "id": "b9cacd16",
   "metadata": {},
   "outputs": [],
   "source": []
  }
 ],
 "metadata": {
  "kernelspec": {
   "display_name": "Python 3 (ipykernel)",
   "language": "python",
   "name": "python3"
  },
  "language_info": {
   "codemirror_mode": {
    "name": "ipython",
    "version": 3
   },
   "file_extension": ".py",
   "mimetype": "text/x-python",
   "name": "python",
   "nbconvert_exporter": "python",
   "pygments_lexer": "ipython3",
   "version": "3.9.13"
  }
 },
 "nbformat": 4,
 "nbformat_minor": 5
}
